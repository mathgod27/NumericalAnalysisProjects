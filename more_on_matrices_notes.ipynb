{
  "nbformat": 4,
  "nbformat_minor": 0,
  "metadata": {
    "colab": {
      "provenance": [],
      "include_colab_link": true
    },
    "kernelspec": {
      "name": "python3",
      "display_name": "Python 3"
    }
  },
  "cells": [
    {
      "cell_type": "markdown",
      "metadata": {
        "id": "view-in-github",
        "colab_type": "text"
      },
      "source": [
        "<a href=\"https://colab.research.google.com/github/mathgod27/NumericalAnalysisProjects/blob/main/more_on_matrices_notes.ipynb\" target=\"_parent\"><img src=\"https://colab.research.google.com/assets/colab-badge.svg\" alt=\"Open In Colab\"/></a>"
      ]
    },
    {
      "cell_type": "markdown",
      "metadata": {
        "id": "dAZ6Jt0g02gi"
      },
      "source": [
        "# Load Modules"
      ]
    },
    {
      "cell_type": "code",
      "metadata": {
        "id": "4Dkur_KnJA7K"
      },
      "source": [
        "import numpy as np\n",
        "import scipy as sp\n",
        "import scipy.linalg"
      ],
      "execution_count": null,
      "outputs": []
    },
    {
      "cell_type": "markdown",
      "metadata": {
        "id": "8G12KdxP08jS"
      },
      "source": [
        "# Matrix Trace"
      ]
    },
    {
      "cell_type": "code",
      "metadata": {
        "id": "XtUGlJK4JOvw",
        "colab": {
          "base_uri": "https://localhost:8080/"
        },
        "outputId": "b8e4050c-6bcc-4d1c-804b-b58fc7319af4"
      },
      "source": [
        "a_mat = np.array([[-1, 0, 3], [11, 5, 2], [6, 12, -5]])\n",
        "\n",
        "np.trace(a_mat)"
      ],
      "execution_count": null,
      "outputs": [
        {
          "output_type": "execute_result",
          "data": {
            "text/plain": [
              "-1"
            ]
          },
          "metadata": {
            "tags": []
          },
          "execution_count": 2
        }
      ]
    },
    {
      "cell_type": "markdown",
      "metadata": {
        "id": "6FqVYkiN1AxX"
      },
      "source": [
        "# Matrix Determinant"
      ]
    },
    {
      "cell_type": "code",
      "metadata": {
        "colab": {
          "base_uri": "https://localhost:8080/"
        },
        "id": "kPeVALV8KxJW",
        "outputId": "d9607ed9-1f3a-4fe8-80f4-7fe95ccb23b3"
      },
      "source": [
        "a_mat = np.array([[1, 2, 3], [4, 5, 6], [7, 8, 9]])\n",
        "\n",
        "np.linalg.det(a_mat)"
      ],
      "execution_count": null,
      "outputs": [
        {
          "output_type": "execute_result",
          "data": {
            "text/plain": [
              "0.0"
            ]
          },
          "metadata": {
            "tags": []
          },
          "execution_count": 3
        }
      ]
    },
    {
      "cell_type": "code",
      "metadata": {
        "id": "kkcVeMRhloWX",
        "outputId": "6dbfaaa0-82d3-4e28-ba6c-7ef97a8ec77e",
        "colab": {
          "base_uri": "https://localhost:8080/"
        }
      },
      "source": [
        "a_mat = np.array([[1, -1, 3], [2, 1, -5], [4, 2, -1]])\n",
        "\n",
        "np.linalg.det(a_mat)"
      ],
      "execution_count": null,
      "outputs": [
        {
          "output_type": "execute_result",
          "data": {
            "text/plain": [
              "27.0"
            ]
          },
          "metadata": {
            "tags": []
          },
          "execution_count": 4
        }
      ]
    },
    {
      "cell_type": "code",
      "metadata": {
        "colab": {
          "base_uri": "https://localhost:8080/"
        },
        "id": "DEvU208HJgjO",
        "outputId": "d74000a0-71b6-4053-e6be-615992532dfb"
      },
      "source": [
        "a_mat = np.array([[1, 2, 3, 3, np.pi], [4, 5, 0, 4, -912], [0, 0, 0, 0, 1], [7, 8, 0, 5, - np.pi*np.pi], [0, 2, 0, 0, 77]])\n",
        "\n",
        "np.linalg.det(a_mat)"
      ],
      "execution_count": null,
      "outputs": [
        {
          "output_type": "execute_result",
          "data": {
            "text/plain": [
              "47.999999999999986"
            ]
          },
          "metadata": {
            "tags": []
          },
          "execution_count": 5
        }
      ]
    },
    {
      "cell_type": "markdown",
      "metadata": {
        "id": "XgVfI9-H1H3o"
      },
      "source": [
        "# Matrix Rank"
      ]
    },
    {
      "cell_type": "code",
      "metadata": {
        "colab": {
          "base_uri": "https://localhost:8080/"
        },
        "id": "3QbQtbfDKsI9",
        "outputId": "f6829587-631b-4233-d5d3-f0603fb4a31e"
      },
      "source": [
        "a_mat = np.array([[1, 2, 3], [4, 5, 6], [7, 8, 9]])\n",
        "\n",
        "np.linalg.matrix_rank(a_mat)"
      ],
      "execution_count": null,
      "outputs": [
        {
          "output_type": "execute_result",
          "data": {
            "text/plain": [
              "2"
            ]
          },
          "metadata": {
            "tags": []
          },
          "execution_count": 6
        }
      ]
    },
    {
      "cell_type": "code",
      "metadata": {
        "colab": {
          "base_uri": "https://localhost:8080/"
        },
        "id": "tQIR_Ow70oqh",
        "outputId": "fddfc1bc-be5e-4a3c-c0cd-5bdb750a1485"
      },
      "source": [
        "a_mat = np.array([[-1, 0, 3], [11, 5, 2], [6, 12, -5]])\n",
        "\n",
        "np.linalg.matrix_rank(a_mat)"
      ],
      "execution_count": null,
      "outputs": [
        {
          "output_type": "execute_result",
          "data": {
            "text/plain": [
              "3"
            ]
          },
          "metadata": {
            "tags": []
          },
          "execution_count": 7
        }
      ]
    },
    {
      "cell_type": "code",
      "metadata": {
        "colab": {
          "base_uri": "https://localhost:8080/"
        },
        "id": "qzRZztd85C1M",
        "outputId": "0bdc9753-4471-41f2-dec2-164d6c9983ab"
      },
      "source": [
        "a_mat = np.array([[1, -1, 2, 1], [3, 2, 1, 4], [5, 8, 6, 3], [4, 2, 5, 3]])\n",
        "\n",
        "np.linalg.matrix_rank(a_mat)"
      ],
      "execution_count": null,
      "outputs": [
        {
          "output_type": "execute_result",
          "data": {
            "text/plain": [
              "4"
            ]
          },
          "metadata": {
            "tags": []
          },
          "execution_count": 8
        }
      ]
    },
    {
      "cell_type": "code",
      "metadata": {
        "colab": {
          "base_uri": "https://localhost:8080/"
        },
        "id": "TwI5pHem5O1p",
        "outputId": "0ff982db-30da-4a2a-8de3-7004ceac7340"
      },
      "source": [
        "a_mat = np.array([[1, 2, 3, 0], [2, 4, 3, 2], [3, 2, 1, 3], [6, 8, 7, 5]])\n",
        "\n",
        "np.linalg.matrix_rank(a_mat)"
      ],
      "execution_count": null,
      "outputs": [
        {
          "output_type": "execute_result",
          "data": {
            "text/plain": [
              "3"
            ]
          },
          "metadata": {
            "tags": []
          },
          "execution_count": 9
        }
      ]
    },
    {
      "cell_type": "code",
      "metadata": {
        "colab": {
          "base_uri": "https://localhost:8080/"
        },
        "id": "2rtmY3Ih6D9w",
        "outputId": "71150e88-e9c5-4422-da23-d3e7fde9c470"
      },
      "source": [
        "a_mat = np.array([[1, -2, 0, 4], [3, 1, 1, 0], [-1, -5, -1, 8], [3, 8, 2, -12]])\n",
        "\n",
        "np.linalg.matrix_rank(a_mat)"
      ],
      "execution_count": null,
      "outputs": [
        {
          "output_type": "execute_result",
          "data": {
            "text/plain": [
              "2"
            ]
          },
          "metadata": {
            "tags": []
          },
          "execution_count": 10
        }
      ]
    }
  ]
}