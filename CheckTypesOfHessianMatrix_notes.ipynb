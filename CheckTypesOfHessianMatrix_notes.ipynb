{
  "nbformat": 4,
  "nbformat_minor": 0,
  "metadata": {
    "colab": {
      "provenance": [],
      "include_colab_link": true
    },
    "kernelspec": {
      "name": "python3",
      "display_name": "Python 3"
    },
    "language_info": {
      "name": "python"
    }
  },
  "cells": [
    {
      "cell_type": "markdown",
      "metadata": {
        "id": "view-in-github",
        "colab_type": "text"
      },
      "source": [
        "<a href=\"https://colab.research.google.com/github/mathgod27/NumericalAnalysisProjects/blob/main/CheckTypesOfHessianMatrix_notes.ipynb\" target=\"_parent\"><img src=\"https://colab.research.google.com/assets/colab-badge.svg\" alt=\"Open In Colab\"/></a>"
      ]
    },
    {
      "cell_type": "code",
      "source": [
        "# import numpy module\n",
        "import numpy as np\n",
        "\n",
        "# check if a matrix is symmetric\n",
        "def check_symmetric(a, rtol=1e-05, atol=1e-08):\n",
        "    return np.allclose(a, a.T, rtol=rtol, atol=atol)\n",
        "\n",
        "# check type of Hessian matrix\n",
        "def checkTypesOfHessian(H):\n",
        "  if check_symmetric(H):   # H should be symmetric\n",
        "    eigvalues = np.linalg.eigvals(H)  # compute eigenvalues\n",
        "\n",
        "    n = H.shape[0]    # get number of eigenvalues which is the same as the number of rows or columns of the matrix\n",
        "    num_positives = np.sum(eigvalues > 0)   # get number of positive eigenvalues\n",
        "    num_non_negatives = np.sum(eigvalues >= 0)  # get number of non-negative eigenvalues\n",
        "    num_zeros = num_non_negatives- num_positives # get number of zero eigenvalues\n",
        "    num_negatives = n - num_non_negatives # get number of negative eigenvalues\n",
        "\n",
        "    if num_positives == n:   # positive definite if and only if all of its eigenvalues are positive.\n",
        "      return 'positive definite'\n",
        "\n",
        "    if num_non_negatives == n: # positive semi-definite if and only if all of its eigenvalues are non-negative.\n",
        "      return 'postive semi-definite'\n",
        "\n",
        "    if num_negatives == n: # negative definite if and only if all of its eigenvalues are negative\n",
        "      return 'negative definite'\n",
        "\n",
        "    if num_zeros + num_negatives == n:  # negative semi-definite if and only if all of its eigenvalues are non-positive.\n",
        "      return 'negative semi-definite'\n",
        "\n",
        "    if (num_positives > 0) and (num_negatives > 0): # indefinite if and only if it has both positive and negative eigenvalues.\n",
        "      return 'indefinite'\n",
        "  else:\n",
        "    return 'non-symmetric'\n",
        "\n",
        "\n",
        "H1 = np.array([[3, -2], [-2, 2]])\n",
        "print(checkTypesOfHessian(H1))\n",
        "\n",
        "H2 = np.array([[16.9372, -2], [-2, 2]])\n",
        "print(checkTypesOfHessian(H2))\n",
        "\n",
        "H3 = np.array([[1.0627, -2], [-2, 2]])\n",
        "print(checkTypesOfHessian(H3))\n"
      ],
      "metadata": {
        "colab": {
          "base_uri": "https://localhost:8080/"
        },
        "id": "MPQhdf8EiLHu",
        "outputId": "c5029e15-d162-4720-9f9d-a882e00a52e6"
      },
      "execution_count": null,
      "outputs": [
        {
          "output_type": "stream",
          "name": "stdout",
          "text": [
            "positive definite\n",
            "positive definite\n",
            "indefinite\n"
          ]
        }
      ]
    }
  ]
}