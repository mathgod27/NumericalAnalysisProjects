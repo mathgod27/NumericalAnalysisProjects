{
  "nbformat": 4,
  "nbformat_minor": 0,
  "metadata": {
    "colab": {
      "provenance": [],
      "include_colab_link": true
    },
    "kernelspec": {
      "name": "python3",
      "display_name": "Python 3"
    }
  },
  "cells": [
    {
      "cell_type": "markdown",
      "metadata": {
        "id": "view-in-github",
        "colab_type": "text"
      },
      "source": [
        "<a href=\"https://colab.research.google.com/github/mathgod27/NumericalAnalysisProjects/blob/main/Singular_Value_Decomposition_notes.ipynb\" target=\"_parent\"><img src=\"https://colab.research.google.com/assets/colab-badge.svg\" alt=\"Open In Colab\"/></a>"
      ]
    },
    {
      "cell_type": "markdown",
      "metadata": {
        "id": "IjuWXGIFXVuJ"
      },
      "source": [
        "# Load Numpy"
      ]
    },
    {
      "cell_type": "code",
      "metadata": {
        "id": "7fw_7JFEWcLU"
      },
      "source": [
        "import numpy as np"
      ],
      "execution_count": null,
      "outputs": []
    },
    {
      "cell_type": "markdown",
      "metadata": {
        "id": "66wKMYKyXXcT"
      },
      "source": [
        "# Compact SVD"
      ]
    },
    {
      "cell_type": "code",
      "metadata": {
        "colab": {
          "base_uri": "https://localhost:8080/"
        },
        "id": "NJFgFCqQWiEf",
        "outputId": "9eacab0a-fe9a-4741-d066-524e56a25550"
      },
      "source": [
        "A = np.array([[1, 1],[0, 1], [1, 0]])\n",
        "\n",
        "U, D, Vt = np.linalg.svd(A, full_matrices=False)\n",
        "\n",
        "print(U)\n",
        "print()\n",
        "\n",
        "print(D)\n",
        "print()\n",
        "\n",
        "print(Vt)"
      ],
      "execution_count": null,
      "outputs": [
        {
          "output_type": "stream",
          "text": [
            "[[-8.16496581e-01 -1.85577521e-16]\n",
            " [-4.08248290e-01 -7.07106781e-01]\n",
            " [-4.08248290e-01  7.07106781e-01]]\n",
            "\n",
            "[1.73205081 1.        ]\n",
            "\n",
            "[[-0.70710678 -0.70710678]\n",
            " [ 0.70710678 -0.70710678]]\n"
          ],
          "name": "stdout"
        }
      ]
    },
    {
      "cell_type": "markdown",
      "metadata": {
        "id": "gDx1aWGUXert"
      },
      "source": [
        "# Full SVD"
      ]
    },
    {
      "cell_type": "code",
      "metadata": {
        "colab": {
          "base_uri": "https://localhost:8080/"
        },
        "id": "kLC92ArpW418",
        "outputId": "c518fbe5-4964-49a0-8ba2-f00d59c3a86a"
      },
      "source": [
        "A = np.array([[1, 1],[0, 1], [1, 0]])\n",
        "\n",
        "U, D, Vt = np.linalg.svd(A, full_matrices=True)\n",
        "\n",
        "print(U)\n",
        "print()\n",
        "\n",
        "print(D)\n",
        "print()\n",
        "\n",
        "print(Vt)"
      ],
      "execution_count": null,
      "outputs": [
        {
          "output_type": "stream",
          "text": [
            "[[-8.16496581e-01 -1.85577521e-16 -5.77350269e-01]\n",
            " [-4.08248290e-01 -7.07106781e-01  5.77350269e-01]\n",
            " [-4.08248290e-01  7.07106781e-01  5.77350269e-01]]\n",
            "\n",
            "[1.73205081 1.        ]\n",
            "\n",
            "[[-0.70710678 -0.70710678]\n",
            " [ 0.70710678 -0.70710678]]\n"
          ],
          "name": "stdout"
        }
      ]
    }
  ]
}