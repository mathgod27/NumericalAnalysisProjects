{
  "nbformat": 4,
  "nbformat_minor": 0,
  "metadata": {
    "colab": {
      "provenance": [],
      "toc_visible": true,
      "include_colab_link": true
    },
    "kernelspec": {
      "name": "python3",
      "display_name": "Python 3"
    }
  },
  "cells": [
    {
      "cell_type": "markdown",
      "metadata": {
        "id": "view-in-github",
        "colab_type": "text"
      },
      "source": [
        "<a href=\"https://colab.research.google.com/github/mathgod27/NumericalAnalysisProjects/blob/main/matrices_notes.ipynb\" target=\"_parent\"><img src=\"https://colab.research.google.com/assets/colab-badge.svg\" alt=\"Open In Colab\"/></a>"
      ]
    },
    {
      "cell_type": "markdown",
      "metadata": {
        "id": "zWrtAycbx1bO"
      },
      "source": [
        "# Load Numpy"
      ]
    },
    {
      "cell_type": "code",
      "metadata": {
        "id": "6ZEaWTeOu_rx"
      },
      "source": [
        "import numpy as np"
      ],
      "execution_count": null,
      "outputs": []
    },
    {
      "cell_type": "markdown",
      "metadata": {
        "id": "RlapgflOANqW"
      },
      "source": [
        "# Obtaining Some Matrix Attributes"
      ]
    },
    {
      "cell_type": "code",
      "metadata": {
        "colab": {
          "base_uri": "https://localhost:8080/"
        },
        "id": "P7C6fhw7AHy0",
        "outputId": "5a6bc98b-b5b0-4051-983f-a9a0d87ee725"
      },
      "source": [
        "a_mat = np.array([[1.0, 2.0], [3, 4], [5, 6]])\n",
        "\n",
        "print(a_mat.shape)\n",
        "print(a_mat.ndim)\n",
        "print(a_mat.size)\n",
        "print(a_mat.dtype)\n",
        "print(type(a_mat))"
      ],
      "execution_count": null,
      "outputs": [
        {
          "output_type": "stream",
          "text": [
            "(3, 2)\n",
            "2\n",
            "6\n",
            "float64\n",
            "<class 'numpy.ndarray'>\n"
          ],
          "name": "stdout"
        }
      ]
    },
    {
      "cell_type": "markdown",
      "metadata": {
        "id": "k_MWkAGpCd-c"
      },
      "source": [
        "# 1D ndarray vs 2D ndarray"
      ]
    },
    {
      "cell_type": "code",
      "metadata": {
        "colab": {
          "base_uri": "https://localhost:8080/"
        },
        "id": "DPZmsHS5BefI",
        "outputId": "9ca79d45-9f6e-4d57-8738-48fede1290a9"
      },
      "source": [
        "b_vec = np.array([1, 2, 3, 4, 5])\n",
        "print(b_vec.shape)\n",
        "print(b_vec.ndim)\n",
        "print(b_vec.size)\n",
        "print(b_vec.dtype)\n",
        "print(type(b_vec))\n",
        "print()\n",
        "\n",
        "c_mat = np.array([[1, 2, 3, 4, 5]])\n",
        "print(c_mat.shape)\n",
        "print(c_mat.ndim)\n",
        "print(c_mat.size)\n",
        "print(c_mat.dtype)\n",
        "print(type(c_mat))\n",
        "print()\n",
        "\n",
        "d_mat = np.array([[1], [2], [3], [4], [5]])\n",
        "print(d_mat.shape)\n",
        "print(d_mat.ndim)\n",
        "print(d_mat.size)\n",
        "print(d_mat.dtype)\n",
        "print(type(d_mat))\n",
        "print()\n",
        "\n",
        "b_mat = b_vec[np.newaxis, :]\n",
        "print(b_mat.shape)\n",
        "print(b_mat.ndim)\n",
        "print(b_mat.size)\n",
        "print(b_mat.dtype)\n",
        "print(type(b_mat))\n",
        "print()\n",
        "\n",
        "b_mat_2 = b_vec[:, np.newaxis]\n",
        "print(b_mat_2.shape)\n",
        "print(b_mat_2.ndim)\n",
        "print(b_mat_2.size)\n",
        "print(b_mat_2.dtype)\n",
        "print(type(b_mat_2))\n",
        "print()"
      ],
      "execution_count": null,
      "outputs": [
        {
          "output_type": "stream",
          "text": [
            "(5,)\n",
            "1\n",
            "5\n",
            "int64\n",
            "<class 'numpy.ndarray'>\n",
            "\n",
            "(1, 5)\n",
            "2\n",
            "5\n",
            "int64\n",
            "<class 'numpy.ndarray'>\n",
            "\n",
            "(5, 1)\n",
            "2\n",
            "5\n",
            "int64\n",
            "<class 'numpy.ndarray'>\n",
            "\n",
            "(1, 5)\n",
            "2\n",
            "5\n",
            "int64\n",
            "<class 'numpy.ndarray'>\n",
            "\n",
            "(5, 1)\n",
            "2\n",
            "5\n",
            "int64\n",
            "<class 'numpy.ndarray'>\n",
            "\n"
          ],
          "name": "stdout"
        }
      ]
    },
    {
      "cell_type": "markdown",
      "metadata": {
        "id": "r7wiJQx9x4-j"
      },
      "source": [
        "# Matrix Addition_Subtraction_ScalarProduct"
      ]
    },
    {
      "cell_type": "code",
      "metadata": {
        "colab": {
          "base_uri": "https://localhost:8080/"
        },
        "id": "yxp1sL6Lx2o9",
        "outputId": "5280de53-2485-4341-f6b3-06e63c9b0ff0"
      },
      "source": [
        "a_mat = np.array([[1, 2], [3, 4], [5, 6]])\n",
        "b_mat = np.array([[7, 8], [9, 10], [11, 12]])\n",
        "print(a_mat)\n",
        "print()\n",
        "print(b_mat)\n",
        "print()\n",
        "\n",
        "\n",
        "add_ = a_mat + b_mat\n",
        "print(add_)\n",
        "print()\n",
        "\n",
        "sub_ = a_mat - b_mat\n",
        "print(sub_)\n",
        "print()\n",
        "\n",
        "scalar_mul_ = a_mat * 3\n",
        "print(scalar_mul_)"
      ],
      "execution_count": null,
      "outputs": [
        {
          "output_type": "stream",
          "text": [
            "[[1 2]\n",
            " [3 4]\n",
            " [5 6]]\n",
            "\n",
            "[[ 7  8]\n",
            " [ 9 10]\n",
            " [11 12]]\n",
            "\n",
            "[[ 8 10]\n",
            " [12 14]\n",
            " [16 18]]\n",
            "\n",
            "[[-6 -6]\n",
            " [-6 -6]\n",
            " [-6 -6]]\n",
            "\n",
            "[[ 3  6]\n",
            " [ 9 12]\n",
            " [15 18]]\n"
          ],
          "name": "stdout"
        }
      ]
    },
    {
      "cell_type": "markdown",
      "metadata": {
        "id": "p2Sp9RK2y5Uf"
      },
      "source": [
        "# Matrix Transpose"
      ]
    },
    {
      "cell_type": "code",
      "metadata": {
        "colab": {
          "base_uri": "https://localhost:8080/"
        },
        "id": "AoPS8KhzyRoE",
        "outputId": "832c2c3d-f260-4aba-e6b3-627cf0f12e0e"
      },
      "source": [
        "a_mat = np.array([[1, 2], [3, 4], [5, 6]])\n",
        "print(a_mat)\n",
        "print()\n",
        "\n",
        "a_mat_t = a_mat.transpose()\n",
        "print(a_mat_t)"
      ],
      "execution_count": null,
      "outputs": [
        {
          "output_type": "stream",
          "text": [
            "[[1 2]\n",
            " [3 4]\n",
            " [5 6]]\n",
            "\n",
            "[[1 3 5]\n",
            " [2 4 6]]\n"
          ],
          "name": "stdout"
        }
      ]
    },
    {
      "cell_type": "markdown",
      "metadata": {
        "id": "ndfkw9wK75nC"
      },
      "source": [
        "# Creation of the Identity Matrix"
      ]
    },
    {
      "cell_type": "code",
      "metadata": {
        "colab": {
          "base_uri": "https://localhost:8080/"
        },
        "id": "BpE9mJYizDXF",
        "outputId": "4c169ef3-7686-4646-9c84-5dcc5d73704a"
      },
      "source": [
        "I = np.identity(3)\n",
        "print(I)\n",
        "print()"
      ],
      "execution_count": null,
      "outputs": [
        {
          "output_type": "stream",
          "text": [
            "[[1. 0. 0.]\n",
            " [0. 1. 0.]\n",
            " [0. 0. 1.]]\n",
            "\n"
          ],
          "name": "stdout"
        }
      ]
    },
    {
      "cell_type": "markdown",
      "metadata": {
        "id": "NDm2suQ-8lQk"
      },
      "source": [
        "# Creation of a Diagonal Matrix"
      ]
    },
    {
      "cell_type": "code",
      "metadata": {
        "colab": {
          "base_uri": "https://localhost:8080/"
        },
        "id": "n90t_V_e8IdV",
        "outputId": "83ce0193-552b-447a-e137-f350913d72d1"
      },
      "source": [
        "D = np.diag([0,4,8])\n",
        "print(D)\n",
        "print()"
      ],
      "execution_count": null,
      "outputs": [
        {
          "output_type": "stream",
          "text": [
            "[[0 0 0]\n",
            " [0 4 0]\n",
            " [0 0 8]]\n",
            "\n"
          ],
          "name": "stdout"
        }
      ]
    },
    {
      "cell_type": "markdown",
      "metadata": {
        "id": "HDBeqydv9HpN"
      },
      "source": [
        "# Matrix-Vector or Matrix-Matrix Multiplication"
      ]
    },
    {
      "cell_type": "code",
      "metadata": {
        "colab": {
          "base_uri": "https://localhost:8080/"
        },
        "id": "Q5xOaDKK8a8j",
        "outputId": "884f8493-91bc-4df9-9810-a853e830d8ba"
      },
      "source": [
        "a_mat = np.array([[1, 2], [3, 4], [5, 6]])\n",
        "b_mat = np.array([[7, 8, 9], [10, 11,12]])\n",
        "#b_mat = np.array([[7], [10]])\n",
        "\n",
        "print(a_mat)\n",
        "print()\n",
        "print(b_mat)\n",
        "print()\n",
        "\n",
        "mat_mat_prod_ = np.matmul(a_mat, b_mat)\n",
        "print(mat_mat_prod_)\n",
        "print()\n",
        "\n",
        "mat_mat_prod_2 = np.dot(a_mat, b_mat)\n",
        "print(mat_mat_prod_2)\n",
        "print()\n",
        "\n",
        "mat_mat_prod_3 = a_mat.dot(b_mat)\n",
        "print(mat_mat_prod_3)\n",
        "print()"
      ],
      "execution_count": null,
      "outputs": [
        {
          "output_type": "stream",
          "text": [
            "[[1 2]\n",
            " [3 4]\n",
            " [5 6]]\n",
            "\n",
            "[[ 7  8  9]\n",
            " [10 11 12]]\n",
            "\n",
            "[[ 27  30  33]\n",
            " [ 61  68  75]\n",
            " [ 95 106 117]]\n",
            "\n",
            "[[ 27  30  33]\n",
            " [ 61  68  75]\n",
            " [ 95 106 117]]\n",
            "\n",
            "[[ 27  30  33]\n",
            " [ 61  68  75]\n",
            " [ 95 106 117]]\n",
            "\n"
          ],
          "name": "stdout"
        }
      ]
    },
    {
      "cell_type": "code",
      "metadata": {
        "colab": {
          "base_uri": "https://localhost:8080/"
        },
        "id": "sTLD8_08CtuL",
        "outputId": "61e95d54-e05c-42d9-fde6-c1fe1ae8a6aa"
      },
      "source": [
        "b_vec = np.array([1, 2, 3])\n",
        "print(b_vec.shape)\n",
        "print(b_vec.ndim)\n",
        "print(b_vec.size)\n",
        "print(b_vec.dtype)\n",
        "print(type(b_vec))\n",
        "print()\n",
        "\n",
        "b_mat = np.array([[1], [2], [3]])\n",
        "print(b_mat.shape)\n",
        "print(b_mat.ndim)\n",
        "print(b_mat.size)\n",
        "print(b_mat.dtype)\n",
        "print(type(b_mat))\n",
        "print()\n",
        "\n",
        "a_mat = np.array([[7, 8, 9], [10, 11,12]])\n",
        "\n",
        "mat_vec_prod_ = np.matmul(a_mat, b_vec)\n",
        "print(mat_vec_prod_)\n",
        "print()\n",
        "\n",
        "mat_mat_prod_ = np.matmul(a_mat, b_mat)\n",
        "print(mat_vec_prod_)\n",
        "print()"
      ],
      "execution_count": null,
      "outputs": [
        {
          "output_type": "stream",
          "text": [
            "(3,)\n",
            "1\n",
            "3\n",
            "int64\n",
            "<class 'numpy.ndarray'>\n",
            "\n",
            "(3, 1)\n",
            "2\n",
            "3\n",
            "int64\n",
            "<class 'numpy.ndarray'>\n",
            "\n",
            "[50 68]\n",
            "\n",
            "[50 68]\n",
            "\n"
          ],
          "name": "stdout"
        }
      ]
    },
    {
      "cell_type": "markdown",
      "metadata": {
        "id": "h2_0FyIg-fsj"
      },
      "source": [
        "# AB $\\neq$ BA"
      ]
    },
    {
      "cell_type": "code",
      "metadata": {
        "colab": {
          "base_uri": "https://localhost:8080/"
        },
        "id": "jT7c5uaf-pXp",
        "outputId": "3f9af9c5-d421-4200-9a9f-08bcfe628c67"
      },
      "source": [
        "a_mat = np.array([[1, 2, 3], [3, 4, 4], [5, 6, 6]])\n",
        "b_mat = np.array([[7, 8, 9], [10, 11,12], [13, 14, 15]])\n",
        "\n",
        "print(a_mat)\n",
        "print()\n",
        "print(b_mat)\n",
        "print()\n",
        "\n",
        "a_b_prod = np.matmul(a_mat, b_mat)\n",
        "print(a_b_prod)\n",
        "print()\n",
        "\n",
        "b_a_prod = np.matmul(b_mat, a_mat)\n",
        "print(b_a_prod)\n",
        "print()"
      ],
      "execution_count": null,
      "outputs": [
        {
          "output_type": "stream",
          "text": [
            "[[1 2 3]\n",
            " [3 4 4]\n",
            " [5 6 6]]\n",
            "\n",
            "[[ 7  8  9]\n",
            " [10 11 12]\n",
            " [13 14 15]]\n",
            "\n",
            "[[ 66  72  78]\n",
            " [113 124 135]\n",
            " [173 190 207]]\n",
            "\n",
            "[[ 76 100 107]\n",
            " [103 136 146]\n",
            " [130 172 185]]\n",
            "\n"
          ],
          "name": "stdout"
        }
      ]
    },
    {
      "cell_type": "markdown",
      "metadata": {
        "id": "UahCto1m-3Vb"
      },
      "source": [
        "# \"numpy.matmul\" vs \"numpy.multiply\"\n",
        "Caution!!\n",
        "* *numpy.matmul()* performs matrix-matrix multiplication\n",
        "* *numpy.multiply()* performs **element-wise** multiplication"
      ]
    },
    {
      "cell_type": "code",
      "metadata": {
        "colab": {
          "base_uri": "https://localhost:8080/"
        },
        "id": "FdDjzm1z_FdK",
        "outputId": "78fe5aa2-ec71-409a-97af-f1bc0173d89b"
      },
      "source": [
        "a_mat = np.array([[1, 2, 3], [3, 4, 4], [5, 6, 6]])\n",
        "b_mat = np.array([[7, 8, 9], [10, 11,12], [13, 14, 15]])\n",
        "\n",
        "print(a_mat)\n",
        "print()\n",
        "print(b_mat)\n",
        "print()\n",
        "\n",
        "# matrix-matrix multiplication\n",
        "mat_mat_prod_ = np.matmul(a_mat, b_mat)\n",
        "print(mat_mat_prod_)\n",
        "print()\n",
        "\n",
        "# element-wise multiplication\n",
        "mat_mat_elemMul = np.multiply(a_mat, b_mat)\n",
        "print(mat_mat_elemMul)\n",
        "print()"
      ],
      "execution_count": null,
      "outputs": [
        {
          "output_type": "stream",
          "text": [
            "[[1 2 3]\n",
            " [3 4 4]\n",
            " [5 6 6]]\n",
            "\n",
            "[[ 7  8  9]\n",
            " [10 11 12]\n",
            " [13 14 15]]\n",
            "\n",
            "[[ 66  72  78]\n",
            " [113 124 135]\n",
            " [173 190 207]]\n",
            "\n",
            "[[ 7 16 27]\n",
            " [30 44 48]\n",
            " [65 84 90]]\n",
            "\n"
          ],
          "name": "stdout"
        }
      ]
    },
    {
      "cell_type": "markdown",
      "metadata": {
        "id": "6mDGGGWx-IZz"
      },
      "source": [
        "# Matrix Inverse"
      ]
    },
    {
      "cell_type": "code",
      "metadata": {
        "colab": {
          "base_uri": "https://localhost:8080/"
        },
        "id": "vi5Kl-_n9E-0",
        "outputId": "9474ecb8-9e1f-4656-e50b-8999eceac3b7"
      },
      "source": [
        "a_mat = np.array([[1, 2, 1], [2, 3, 4], [2, 1, 1]])\n",
        "print(a_mat)\n",
        "print()\n",
        "\n",
        "a_mat_inv = np.linalg.inv(a_mat)\n",
        "print(a_mat_inv)\n",
        "print()\n",
        "\n",
        "mat_mat_prod_ = np.matmul(a_mat, a_mat_inv)\n",
        "print(mat_mat_prod_)\n",
        "print()"
      ],
      "execution_count": null,
      "outputs": [
        {
          "output_type": "stream",
          "text": [
            "[[1 2 1]\n",
            " [2 3 4]\n",
            " [2 1 1]]\n",
            "\n",
            "[[-0.14285714 -0.14285714  0.71428571]\n",
            " [ 0.85714286 -0.14285714 -0.28571429]\n",
            " [-0.57142857  0.42857143 -0.14285714]]\n",
            "\n",
            "[[ 1.00000000e+00  5.55111512e-17 -5.55111512e-17]\n",
            " [ 0.00000000e+00  1.00000000e+00 -1.11022302e-16]\n",
            " [ 1.11022302e-16 -5.55111512e-17  1.00000000e+00]]\n",
            "\n"
          ],
          "name": "stdout"
        }
      ]
    }
  ]
}