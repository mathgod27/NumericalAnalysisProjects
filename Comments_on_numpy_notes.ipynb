{
  "nbformat": 4,
  "nbformat_minor": 0,
  "metadata": {
    "colab": {
      "provenance": [],
      "include_colab_link": true
    },
    "kernelspec": {
      "name": "python3",
      "display_name": "Python 3"
    }
  },
  "cells": [
    {
      "cell_type": "markdown",
      "metadata": {
        "id": "view-in-github",
        "colab_type": "text"
      },
      "source": [
        "<a href=\"https://colab.research.google.com/github/mathgod27/NumericalAnalysisProjects/blob/main/Comments_on_numpy_notes.ipynb\" target=\"_parent\"><img src=\"https://colab.research.google.com/assets/colab-badge.svg\" alt=\"Open In Colab\"/></a>"
      ]
    },
    {
      "cell_type": "markdown",
      "metadata": {
        "id": "jbsK1PokF5nb"
      },
      "source": [
        "**Python list to store data**"
      ]
    },
    {
      "cell_type": "code",
      "metadata": {
        "id": "XbCFF47mFu-N",
        "colab": {
          "base_uri": "https://localhost:8080/"
        },
        "outputId": "452c2cda-94ea-4e3e-9330-f2260d8d237a"
      },
      "source": [
        "# Concatenating two lists in Python\n",
        "a = [1, 2]\n",
        "b = [3, 4]\n",
        "a + b"
      ],
      "execution_count": null,
      "outputs": [
        {
          "output_type": "execute_result",
          "data": {
            "text/plain": [
              "[1, 2, 3, 4]"
            ]
          },
          "metadata": {
            "tags": []
          },
          "execution_count": 1
        }
      ]
    },
    {
      "cell_type": "code",
      "metadata": {
        "id": "6ymDRu6JGMEx",
        "colab": {
          "base_uri": "https://localhost:8080/"
        },
        "outputId": "0fd7476c-1fa6-48b3-c642-5a47bf134a6c"
      },
      "source": [
        "# element wise add operation of two lists\n",
        "def elemwise_add(v, w):\n",
        "  return [v_i + w_i for v_i, w_i in zip(v, w)]\n",
        "\n",
        "c = elemwise_add(a,b)\n",
        "print(c)"
      ],
      "execution_count": null,
      "outputs": [
        {
          "output_type": "stream",
          "text": [
            "[4, 6]\n"
          ],
          "name": "stdout"
        }
      ]
    },
    {
      "cell_type": "code",
      "metadata": {
        "id": "BZnz3ZHwG9z-",
        "colab": {
          "base_uri": "https://localhost:8080/"
        },
        "outputId": "34b19808-c347-4c4c-ec94-f3e6183e67dc"
      },
      "source": [
        "# vector-like dot operation of two lists\n",
        "def vector_dot(a,b):\n",
        "  return sum([i*j for i,j in zip(a,b)])\n",
        "\n",
        "d = vector_dot(a,b)\n",
        "print(d)"
      ],
      "execution_count": null,
      "outputs": [
        {
          "output_type": "stream",
          "text": [
            "11\n"
          ],
          "name": "stdout"
        }
      ]
    },
    {
      "cell_type": "markdown",
      "metadata": {
        "id": "wqv4CJ2xGlva"
      },
      "source": [
        "**Numpy array to store data**"
      ]
    },
    {
      "cell_type": "code",
      "metadata": {
        "id": "f5fmVRhEGqmh",
        "colab": {
          "base_uri": "https://localhost:8080/"
        },
        "outputId": "fb1158c3-e369-4996-eaa3-1ec22fa421a2"
      },
      "source": [
        "import numpy as np\n",
        "\n",
        "a_np = np.array([1,2])\n",
        "b_np = np.array([3,4])\n",
        "\n",
        "c_np = a_np + b_np\n",
        "print(c_np)\n",
        "\n",
        "d_np = np.dot(a_np , b_np)\n",
        "print(d_np)\n",
        "\n",
        "# or dot product\n",
        "d2_np = a_np.dot(b_np)\n",
        "print(d2_np)"
      ],
      "execution_count": null,
      "outputs": [
        {
          "output_type": "stream",
          "text": [
            "[4 6]\n",
            "11\n",
            "11\n"
          ],
          "name": "stdout"
        }
      ]
    },
    {
      "cell_type": "markdown",
      "metadata": {
        "id": "_jKz2CIdIP4g"
      },
      "source": [
        "**Caution: python name binding**"
      ]
    },
    {
      "cell_type": "code",
      "metadata": {
        "id": "G4ZN6aweHdhy",
        "colab": {
          "base_uri": "https://localhost:8080/"
        },
        "outputId": "08179a49-5e25-4fda-c1e3-ae026eb7aacd"
      },
      "source": [
        "e_np = np.array([1,2, 3, 4])\n",
        "print(e_np)\n",
        "print(e_np.shape)"
      ],
      "execution_count": null,
      "outputs": [
        {
          "output_type": "stream",
          "text": [
            "[1 2 3 4]\n",
            "(4,)\n"
          ],
          "name": "stdout"
        }
      ]
    },
    {
      "cell_type": "code",
      "metadata": {
        "id": "UHWqjD18HrtA",
        "colab": {
          "base_uri": "https://localhost:8080/"
        },
        "outputId": "0e642397-9fcb-4961-bdb3-728af199ee41"
      },
      "source": [
        "f_np = e_np\n",
        "\n",
        "f_np[1] = 999\n",
        "print(f_np)"
      ],
      "execution_count": null,
      "outputs": [
        {
          "output_type": "stream",
          "text": [
            "[  1 999   3   4]\n"
          ],
          "name": "stdout"
        }
      ]
    },
    {
      "cell_type": "code",
      "metadata": {
        "id": "AURq6LUOH1OT",
        "colab": {
          "base_uri": "https://localhost:8080/"
        },
        "outputId": "ec5748b4-5b80-4944-bc2a-8b99c8055250"
      },
      "source": [
        "print(e_np)\n",
        "\n",
        "print(id(f_np))\n",
        "print(id(e_np))"
      ],
      "execution_count": null,
      "outputs": [
        {
          "output_type": "stream",
          "text": [
            "[  1 999   3   4]\n",
            "140452147071856\n",
            "140452147071856\n"
          ],
          "name": "stdout"
        }
      ]
    },
    {
      "cell_type": "code",
      "metadata": {
        "id": "SH65NpK7H-ZV",
        "colab": {
          "base_uri": "https://localhost:8080/"
        },
        "outputId": "415fea70-89f5-4edd-b134-94cbfbae4ee8"
      },
      "source": [
        "# this is because of name binding\n",
        "a = 2\n",
        "b = a\n",
        "\n",
        "print(a)\n",
        "print(b)\n",
        "\n",
        "# the address of an object in RAM\n",
        "print(id(a))\n",
        "print(id(b))"
      ],
      "execution_count": null,
      "outputs": [
        {
          "output_type": "stream",
          "text": [
            "2\n",
            "2\n",
            "10914528\n",
            "10914528\n"
          ],
          "name": "stdout"
        }
      ]
    },
    {
      "cell_type": "markdown",
      "metadata": {
        "id": "ZEpDrWzeMAIz"
      },
      "source": [
        "**Copy function**"
      ]
    },
    {
      "cell_type": "code",
      "metadata": {
        "id": "Ls7MoDueJnkR",
        "colab": {
          "base_uri": "https://localhost:8080/"
        },
        "outputId": "b3b2a1b3-8942-4e87-cebb-7977cd969af0"
      },
      "source": [
        "e_np = np.array([1,2, 3, 4])\n",
        "print(e_np)\n",
        "print(e_np.shape)\n",
        "\n",
        "f_np = e_np.copy()\n",
        "f_np[1] = 999\n",
        "\n",
        "print(f_np)\n",
        "print(e_np)\n",
        "\n",
        "print(id(f_np))\n",
        "print(id(e_np))"
      ],
      "execution_count": null,
      "outputs": [
        {
          "output_type": "stream",
          "text": [
            "[1 2 3 4]\n",
            "(4,)\n",
            "[  1 999   3   4]\n",
            "[1 2 3 4]\n",
            "140452138272288\n",
            "140452138271488\n"
          ],
          "name": "stdout"
        }
      ]
    },
    {
      "cell_type": "markdown",
      "metadata": {
        "id": "_pcsaSkVMRZE"
      },
      "source": [
        "**More examples to show the usefulness of copy**"
      ]
    },
    {
      "cell_type": "code",
      "metadata": {
        "id": "Z3JVLh4oJ5qX",
        "colab": {
          "base_uri": "https://localhost:8080/"
        },
        "outputId": "11f1fe0b-2787-499b-bb71-8969e4473fe6"
      },
      "source": [
        "e_np = np.array([[1,2, 3, 4],[5,6,7,8],[9,10,11,12]])\n",
        "print(e_np)\n",
        "print(e_np.shape)\n",
        "print()\n",
        "\n",
        "f_np = e_np[:,3]\n",
        "f_np[1] = 999\n",
        "\n",
        "print(f_np)\n",
        "print()\n",
        "\n",
        "print(e_np)\n",
        "print()"
      ],
      "execution_count": null,
      "outputs": [
        {
          "output_type": "stream",
          "text": [
            "[[ 1  2  3  4]\n",
            " [ 5  6  7  8]\n",
            " [ 9 10 11 12]]\n",
            "(3, 4)\n",
            "\n",
            "[  4 999  12]\n",
            "\n",
            "[[  1   2   3   4]\n",
            " [  5   6   7 999]\n",
            " [  9  10  11  12]]\n",
            "\n"
          ],
          "name": "stdout"
        }
      ]
    },
    {
      "cell_type": "code",
      "metadata": {
        "id": "EFLBSrR8Mhrl"
      },
      "source": [],
      "execution_count": null,
      "outputs": []
    }
  ]
}