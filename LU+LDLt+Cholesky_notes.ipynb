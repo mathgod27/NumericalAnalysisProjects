{
  "nbformat": 4,
  "nbformat_minor": 0,
  "metadata": {
    "colab": {
      "provenance": [],
      "toc_visible": true,
      "include_colab_link": true
    },
    "kernelspec": {
      "name": "python3",
      "display_name": "Python 3"
    }
  },
  "cells": [
    {
      "cell_type": "markdown",
      "metadata": {
        "id": "view-in-github",
        "colab_type": "text"
      },
      "source": [
        "<a href=\"https://colab.research.google.com/github/mathgod27/NumericalAnalysisProjects/blob/main/LU%2BLDLt%2BCholesky_notes.ipynb\" target=\"_parent\"><img src=\"https://colab.research.google.com/assets/colab-badge.svg\" alt=\"Open In Colab\"/></a>"
      ]
    },
    {
      "cell_type": "markdown",
      "metadata": {
        "id": "kS2G2LXAIvbg"
      },
      "source": [
        "# Load Numpy and Scipy\n",
        "\n",
        "* Details of the Linear algebra (scipy.linalg):https://docs.scipy.org/doc/scipy/reference/linalg.html\n",
        "* Details of the NumPy linear algebra functions: https://numpy.org/doc/stable/reference/routines.linalg.html#module-numpy.linalg"
      ]
    },
    {
      "cell_type": "code",
      "metadata": {
        "id": "q_VlkRoHEGPG"
      },
      "source": [
        "import numpy as np\n",
        "import scipy as sp\n",
        "import scipy.linalg"
      ],
      "execution_count": null,
      "outputs": []
    },
    {
      "cell_type": "markdown",
      "metadata": {
        "id": "DqhQzwwrI1ev"
      },
      "source": [
        "# LU Decomposition from scipy\n",
        "\n",
        "* Use scipy.linalg.lu to compute pivoted LU decomposition of a matrix."
      ]
    },
    {
      "cell_type": "code",
      "metadata": {
        "colab": {
          "base_uri": "https://localhost:8080/"
        },
        "id": "ug2SC6C3EqJi",
        "outputId": "30bb9ab0-62ee-4ec7-a49b-d0ac0ab88bfe"
      },
      "source": [
        "# A = np.array([[6,-2,2,4],[12,-8,6,10],[3,-13,9,3],[-6,4,1,-18]])\n",
        "A = np.array([[1,2,0],[3,6,-1],[1,2,1]])\n",
        "print(A)\n",
        "print()\n",
        "\n",
        "P, L, U = sp.linalg.lu(A)\n",
        "\n",
        "print(P)\n",
        "print()\n",
        "\n",
        "print(L)\n",
        "print()\n",
        "\n",
        "print(U)\n",
        "print()"
      ],
      "execution_count": null,
      "outputs": [
        {
          "output_type": "stream",
          "name": "stdout",
          "text": [
            "[[ 1  2  0]\n",
            " [ 3  6 -1]\n",
            " [ 1  2  1]]\n",
            "\n",
            "[[0. 1. 0.]\n",
            " [1. 0. 0.]\n",
            " [0. 0. 1.]]\n",
            "\n",
            "[[1.         0.         0.        ]\n",
            " [0.33333333 1.         0.        ]\n",
            " [0.33333333 0.         1.        ]]\n",
            "\n",
            "[[ 3.          6.         -1.        ]\n",
            " [ 0.          0.          0.33333333]\n",
            " [ 0.          0.          1.33333333]]\n",
            "\n"
          ]
        }
      ]
    },
    {
      "cell_type": "markdown",
      "metadata": {
        "id": "e4Me5Cg5JHsH"
      },
      "source": [
        "# Solving Linear Systems Using LU from scipy\n",
        "\n",
        "* scipy.linalg.lu_solve needs to work with scipy.linalg.lu_factor, not scipy.linalg.lu"
      ]
    },
    {
      "cell_type": "code",
      "metadata": {
        "colab": {
          "base_uri": "https://localhost:8080/"
        },
        "id": "A5qnXNodFYHR",
        "outputId": "346ac6e8-c35d-4c09-b59b-78f30a2e6de9"
      },
      "source": [
        "A = np.array([[6,-2,2,4],[12,-8,6,10],[3,-13,9,3],[-6,4,1,-18]])\n",
        "b = np.array([[16],[26],[-19],[-34]])\n",
        "\n",
        "lu, piv = sp.linalg.lu_factor(A)\n",
        "\n",
        "print(lu)\n",
        "print()\n",
        "\n",
        "print(piv)\n",
        "print()\n",
        "\n",
        "x = sp.linalg.lu_solve((lu, piv), b)\n",
        "\n",
        "print(x)\n",
        "print()"
      ],
      "execution_count": null,
      "outputs": [
        {
          "output_type": "stream",
          "name": "stdout",
          "text": [
            "[[ 12.          -8.           6.          10.        ]\n",
            " [  0.25       -11.           7.5          0.5       ]\n",
            " [ -0.5         -0.           4.         -13.        ]\n",
            " [  0.5         -0.18181818   0.09090909   0.27272727]]\n",
            "\n",
            "[1 2 3 3]\n",
            "\n",
            "[[ 3.]\n",
            " [ 1.]\n",
            " [-2.]\n",
            " [ 1.]]\n",
            "\n"
          ]
        }
      ]
    },
    {
      "cell_type": "markdown",
      "metadata": {
        "id": "jEVg1kDumwZ9"
      },
      "source": [
        "# $LDL^T$ Decomposition from scipy\n",
        "* for symmetric matrices"
      ]
    },
    {
      "cell_type": "code",
      "metadata": {
        "colab": {
          "base_uri": "https://localhost:8080/"
        },
        "id": "Ukv2PjRvkTpx",
        "outputId": "c07c44f3-2db4-4cab-971a-2c016d1367b1"
      },
      "source": [
        "A = np.array([[2, -1, 3], [-1, 2, 0], [3, 0, 1]])\n",
        "print(A)\n",
        "print()\n",
        "\n",
        "L, D, P = sp.linalg.ldl(A)\n",
        "\n",
        "print(L)\n",
        "print()\n",
        "\n",
        "print(D)\n",
        "print()\n",
        "\n",
        "print(P)\n",
        "print()\n",
        "\n",
        "print(np.matmul(L, np.matmul(D, L.T)))  # check if A = LDL_t"
      ],
      "execution_count": null,
      "outputs": [
        {
          "output_type": "stream",
          "name": "stdout",
          "text": [
            "[[ 2 -1  3]\n",
            " [-1  2  0]\n",
            " [ 3  0  1]]\n",
            "\n",
            "[[ 1.   0.   0. ]\n",
            " [-0.5  1.   0. ]\n",
            " [ 1.5  1.   1. ]]\n",
            "\n",
            "[[ 2.   0.   0. ]\n",
            " [ 0.   1.5  0. ]\n",
            " [ 0.   0.  -5. ]]\n",
            "\n",
            "[0 1 2]\n",
            "\n",
            "[[ 2. -1.  3.]\n",
            " [-1.  2.  0.]\n",
            " [ 3.  0.  1.]]\n"
          ]
        }
      ]
    },
    {
      "cell_type": "markdown",
      "metadata": {
        "id": "9bvDuNwnn16w"
      },
      "source": [
        "# Cholesky decomposition from scipy\n",
        "* for symmetric, positive definite matrices"
      ]
    },
    {
      "cell_type": "code",
      "metadata": {
        "colab": {
          "base_uri": "https://localhost:8080/"
        },
        "id": "TeEpDfzpleLf",
        "outputId": "38ff702a-377a-4475-e076-bbb8c532c0e8"
      },
      "source": [
        "A = np.array([[2, -1, 3], [8, 2, 0], [5, 0, 1]])\n",
        "B = np.matmul(A, A.T)  # get a matrix that is symmetric, positive definite\n",
        "\n",
        "print(B)\n",
        "print()\n",
        "\n",
        "L = sp.linalg.cholesky(B, lower=True)\n",
        "\n",
        "print(L)\n",
        "print()\n",
        "\n",
        "print(np.matmul(L, L.T))  # check if B = LL_t"
      ],
      "execution_count": null,
      "outputs": [
        {
          "output_type": "stream",
          "name": "stdout",
          "text": [
            "[[14 14 13]\n",
            " [14 68 40]\n",
            " [13 40 26]]\n",
            "\n",
            "[[3.74165739 0.         0.        ]\n",
            " [3.74165739 7.34846923 0.        ]\n",
            " [3.47439614 3.67423461 0.65465367]]\n",
            "\n",
            "[[14. 14. 13.]\n",
            " [14. 68. 40.]\n",
            " [13. 40. 26.]]\n"
          ]
        }
      ]
    },
    {
      "cell_type": "markdown",
      "metadata": {
        "id": "XXJT2xWFog49"
      },
      "source": [
        "# Cholesky Decomposition from numpy"
      ]
    },
    {
      "cell_type": "code",
      "metadata": {
        "colab": {
          "base_uri": "https://localhost:8080/"
        },
        "id": "V8FX0XSWnfZA",
        "outputId": "e48fc774-9b3b-4449-f63c-690b6b91fffb"
      },
      "source": [
        "A = np.array([[2, -1, 3], [8, 2, 0], [5, 0, 1]])\n",
        "B = np.matmul(A, A.T)  # get a matrix that is symmetric, positive definite\n",
        "\n",
        "print(B)\n",
        "print()\n",
        "\n",
        "L = np.linalg.cholesky(B)\n",
        "\n",
        "print(L)\n",
        "print()\n",
        "\n",
        "print(np.matmul(L, L.T))  # check if B = LL_t"
      ],
      "execution_count": null,
      "outputs": [
        {
          "output_type": "stream",
          "name": "stdout",
          "text": [
            "[[14 14 13]\n",
            " [14 68 40]\n",
            " [13 40 26]]\n",
            "\n",
            "[[3.74165739 0.         0.        ]\n",
            " [3.74165739 7.34846923 0.        ]\n",
            " [3.47439614 3.67423461 0.65465367]]\n",
            "\n",
            "[[14. 14. 13.]\n",
            " [14. 68. 40.]\n",
            " [13. 40. 26.]]\n"
          ]
        }
      ]
    }
  ]
}