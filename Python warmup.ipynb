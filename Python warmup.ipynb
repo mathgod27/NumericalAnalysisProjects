{
 "cells": [
  {
   "cell_type": "markdown",
   "metadata": {},
   "source": [
    "Here is some Python practice before I get started with Numerical Analysis... "
   ]
  },
  {
   "cell_type": "code",
   "execution_count": 1,
   "metadata": {},
   "outputs": [
    {
     "name": "stdout",
     "output_type": "stream",
     "text": [
      "Hello World! Here is the first python practice line.\n"
     ]
    }
   ],
   "source": [
    "print(\"Hello World! Here is the first python practice line.\")"
   ]
  },
  {
   "cell_type": "code",
   "execution_count": 2,
   "metadata": {},
   "outputs": [
    {
     "name": "stdout",
     "output_type": "stream",
     "text": [
      "25\n"
     ]
    }
   ],
   "source": [
    "#here is a demonstration of how to use a comment\n",
    "print(25)"
   ]
  },
  {
   "cell_type": "code",
   "execution_count": 3,
   "metadata": {},
   "outputs": [
    {
     "name": "stdout",
     "output_type": "stream",
     "text": [
      "Mary\n"
     ]
    }
   ],
   "source": [
    "#here is declaring a variable\n",
    "name = \"Mary\"\n",
    "#print the name\n",
    "print(name)     #Mary"
   ]
  },
  {
   "cell_type": "code",
   "execution_count": 4,
   "metadata": {},
   "outputs": [
    {
     "name": "stdout",
     "output_type": "stream",
     "text": [
      "Hi there world\n"
     ]
    }
   ],
   "source": [
    "# multi\n",
    "# line\n",
    "# comment\n",
    "'''or this is a \n",
    "multi line comment too'''\n",
    "print('Hi there world')"
   ]
  },
  {
   "cell_type": "code",
   "execution_count": 1,
   "metadata": {},
   "outputs": [
    {
     "name": "stdout",
     "output_type": "stream",
     "text": [
      "The sum is:  25\n"
     ]
    }
   ],
   "source": [
    "fnum1 = 15\n",
    "fnum2 = 10\n",
    "\n",
    "sum = fnum1 + fnum2\n",
    "print(\"The sum is: \", sum)\n",
    "#print(\"The product is: \", product) [we commented this out because it doesn't work, so now it won't effect the code]"
   ]
  },
  {
   "cell_type": "code",
   "execution_count": 2,
   "metadata": {},
   "outputs": [
    {
     "name": "stdout",
     "output_type": "stream",
     "text": [
      "27\n",
      "1\n"
     ]
    }
   ],
   "source": [
    "#let's demonstrate changing a variable through lines of code\n",
    "my_fav_num = 27\n",
    "print(my_fav_num)\n",
    "my_fav_num = 1\n",
    "print(my_fav_num)"
   ]
  },
  {
   "cell_type": "code",
   "execution_count": 3,
   "metadata": {},
   "outputs": [
    {
     "name": "stdout",
     "output_type": "stream",
     "text": [
      "27\n",
      "5.6\n",
      "Hola\n"
     ]
    }
   ],
   "source": [
    "#assigning multiple variables to values\n",
    "a, b, c = 27, 5.6, 'Hola'\n",
    "print(a)\n",
    "print(b)\n",
    "print(c)"
   ]
  },
  {
   "cell_type": "code",
   "execution_count": 5,
   "metadata": {},
   "outputs": [
    {
     "name": "stdout",
     "output_type": "stream",
     "text": [
      "programiz.com\n",
      "programiz.com\n"
     ]
    }
   ],
   "source": [
    "#here we made them equal to each other so the same thing will print\n",
    "site1 = site2 = 'programiz.com'\n",
    "print(site1)\n",
    "print(site2)"
   ]
  },
  {
   "cell_type": "code",
   "execution_count": 6,
   "metadata": {},
   "outputs": [
    {
     "name": "stdout",
     "output_type": "stream",
     "text": [
      "Value:  124.23\n",
      "Data Type:  <class 'float'>\n"
     ]
    }
   ],
   "source": [
    "#float is a number with decimals whereas an integer has no decimals\n",
    "int_num = 123\n",
    "float_num = 1.23\n",
    "\n",
    "new_num = int_num + float_num\n",
    "\n",
    "#display new num and classify it\n",
    "print(\"Value: \", new_num)\n",
    "print(\"Data Type: \", type(new_num))"
   ]
  },
  {
   "cell_type": "code",
   "execution_count": 7,
   "metadata": {},
   "outputs": [
    {
     "name": "stdout",
     "output_type": "stream",
     "text": [
      "Data type of num_string before Type casting: <class 'str'>\n",
      "Data type of num_string after Type casting: <class 'int'>\n",
      "sum: 35\n",
      "data type of num_sum <class 'int'>\n"
     ]
    }
   ],
   "source": [
    "# addition of string and integer using explicit conversion\n",
    "num_string = '12'\n",
    "num_int = 23\n",
    "\n",
    "print(\"Data type of num_string before Type casting:\",type(num_string))\n",
    "\n",
    "#explicit type conversion\n",
    "num_string = int(num_string)\n",
    "\n",
    "print(\"Data type of num_string after Type casting:\",type(num_string))\n",
    "\n",
    "num_sum = num_int + num_string\n",
    "\n",
    "print(\"sum:\", num_sum)\n",
    "print(\"data type of num_sum\", type(num_sum))"
   ]
  },
  {
   "cell_type": "code",
   "execution_count": 8,
   "metadata": {},
   "outputs": [
    {
     "name": "stdout",
     "output_type": "stream",
     "text": [
      "Good Morning! It is rainy today\n"
     ]
    }
   ],
   "source": [
    "#python print() with end parameter\n",
    "\n",
    "# print with end whitespace\n",
    "print('Good Morning!', end= ' ')\n",
    "\n",
    "print('It is rainy today')"
   ]
  },
  {
   "cell_type": "code",
   "execution_count": 10,
   "metadata": {},
   "outputs": [
    {
     "name": "stdout",
     "output_type": "stream",
     "text": [
      "New Year. 2023. See you soon!\n",
      "Programiz is awesome.\n",
      "The value of x is 5 and y is 10\n"
     ]
    }
   ],
   "source": [
    "print('New Year', 2023, 'See you soon!', sep= '. ')\n",
    "print('Programiz is ' + 'awesome.')\n",
    "x = 5\n",
    "y = 10\n",
    "\n",
    "print('The value of x is {} and y is {}'.format(x,y))"
   ]
  },
  {
   "cell_type": "code",
   "execution_count": 11,
   "metadata": {},
   "outputs": [
    {
     "name": "stdout",
     "output_type": "stream",
     "text": [
      "You Entered: 5\n",
      "Data type of num: <class 'str'>\n"
     ]
    }
   ],
   "source": [
    "#input with print\n",
    "# using input() to take user input\n",
    "num = input('Enter a number: ')\n",
    "\n",
    "print('You Entered:', num)\n",
    "\n",
    "print('Data type of num:', type(num))\n",
    "#making it an int\n",
    "num = int(input('Enter a number: '))"
   ]
  },
  {
   "cell_type": "code",
   "execution_count": 12,
   "metadata": {},
   "outputs": [
    {
     "name": "stdout",
     "output_type": "stream",
     "text": [
      "Sum:  9\n",
      "Subtraction:  5\n",
      "Multiplication:  14\n",
      "Division:  3.5\n",
      "Floor Division:  3\n",
      "Modulo:  1\n",
      "Power:  49\n"
     ]
    }
   ],
   "source": [
    "#operators\n",
    "a = 7\n",
    "b = 2\n",
    "\n",
    "# addition\n",
    "print ('Sum: ', a + b)  \n",
    "\n",
    "# subtraction\n",
    "print ('Subtraction: ', a - b)   \n",
    "\n",
    "# multiplication\n",
    "print ('Multiplication: ', a * b)  \n",
    "\n",
    "# division\n",
    "print ('Division: ', a / b) \n",
    "\n",
    "# floor division\n",
    "print ('Floor Division: ', a // b)\n",
    "\n",
    "# modulo\n",
    "print ('Modulo: ', a % b)  \n",
    "\n",
    "# a to the power b\n",
    "print ('Power: ', a ** b)   "
   ]
  },
  {
   "cell_type": "code",
   "execution_count": 13,
   "metadata": {},
   "outputs": [
    {
     "name": "stdout",
     "output_type": "stream",
     "text": [
      "15\n"
     ]
    }
   ],
   "source": [
    "#logic operators\n",
    "# assign 10 to a\n",
    "a = 10\n",
    "\n",
    "# assign 5 to b\n",
    "b = 5 \n",
    "\n",
    "# assign the sum of a and b to a\n",
    "a += b      # a = a + b\n",
    "\n",
    "print(a)\n",
    "\n",
    "# Output: 15"
   ]
  },
  {
   "cell_type": "code",
   "execution_count": 14,
   "metadata": {},
   "outputs": [
    {
     "name": "stdout",
     "output_type": "stream",
     "text": [
      "a == b = False\n",
      "a != b = True\n",
      "a > b = True\n",
      "a < b = False\n",
      "a >= b = True\n",
      "a <= b = False\n"
     ]
    }
   ],
   "source": [
    "#true/false\n",
    "a = 5\n",
    "\n",
    "b = 2\n",
    "\n",
    "# equal to operator\n",
    "print('a == b =', a == b)\n",
    "\n",
    "# not equal to operator\n",
    "print('a != b =', a != b)\n",
    "\n",
    "# greater than operator\n",
    "print('a > b =', a > b)\n",
    "\n",
    "# less than operator\n",
    "print('a < b =', a < b)\n",
    "\n",
    "# greater than or equal to operator\n",
    "print('a >= b =', a >= b)\n",
    "\n",
    "# less than or equal to operator\n",
    "print('a <= b =', a <= b)"
   ]
  },
  {
   "cell_type": "code",
   "execution_count": 15,
   "metadata": {},
   "outputs": [
    {
     "name": "stdout",
     "output_type": "stream",
     "text": [
      "True\n",
      "False\n",
      "True\n",
      "False\n"
     ]
    }
   ],
   "source": [
    "#more logic \n",
    "# logical AND\n",
    "print(True and True)     # True\n",
    "print(True and False)    # False\n",
    "\n",
    "# logical OR\n",
    "print(True or False)     # True\n",
    "\n",
    "# logical NOT\n",
    "print(not True)          # False"
   ]
  },
  {
   "cell_type": "code",
   "execution_count": 16,
   "metadata": {},
   "outputs": [
    {
     "name": "stdout",
     "output_type": "stream",
     "text": [
      "False\n",
      "True\n",
      "False\n"
     ]
    }
   ],
   "source": [
    "x1 = 5\n",
    "y1 = 5\n",
    "x2 = 'Hello'\n",
    "y2 = 'Hello'\n",
    "x3 = [1,2,3]\n",
    "y3 = [1,2,3]\n",
    "\n",
    "print(x1 is not y1)  # prints False\n",
    "\n",
    "print(x2 is y2)  # prints True\n",
    "\n",
    "print(x3 is y3)  # prints False"
   ]
  },
  {
   "cell_type": "code",
   "execution_count": 17,
   "metadata": {},
   "outputs": [
    {
     "name": "stdout",
     "output_type": "stream",
     "text": [
      "True\n",
      "True\n",
      "True\n",
      "False\n"
     ]
    }
   ],
   "source": [
    "message = 'Hello world'\n",
    "dict1 = {1:'a', 2:'b'}\n",
    "\n",
    "# check if 'H' is present in message string\n",
    "print('H' in message)  # prints True\n",
    "\n",
    "# check if 'hello' is present in message string\n",
    "print('hello' not in message)  # prints True\n",
    "\n",
    "# check if '1' key is present in dict1\n",
    "print(1 in dict1)  # prints True\n",
    "\n",
    "# check if 'a' key is present in dict1\n",
    "print('a' in dict1)  # prints False"
   ]
  },
  {
   "cell_type": "code",
   "execution_count": 18,
   "metadata": {},
   "outputs": [
    {
     "name": "stdout",
     "output_type": "stream",
     "text": [
      "5 is a positive number.\n",
      "A statement outside the if statement.\n"
     ]
    }
   ],
   "source": [
    "#if statements\n",
    "number = int(input('Enter a number: '))\n",
    "\n",
    "# check if number is greater than 0\n",
    "if number > 0:\n",
    "    print(f'{number} is a positive number.')\n",
    "\n",
    "print('A statement outside the if statement.')"
   ]
  },
  {
   "cell_type": "code",
   "execution_count": 19,
   "metadata": {},
   "outputs": [
    {
     "name": "stdout",
     "output_type": "stream",
     "text": [
      "1\n",
      "This is always executed.\n"
     ]
    }
   ],
   "source": [
    "x = 1\n",
    "total = 0\n",
    "\n",
    "# start of the if statement\n",
    "if x != 0:\n",
    "    total += x\n",
    "    print(total)  \n",
    "# end of the if statement\n",
    "\n",
    "print(\"This is always executed.\")"
   ]
  },
  {
   "cell_type": "code",
   "execution_count": 20,
   "metadata": {},
   "outputs": [
    {
     "ename": "IndentationError",
     "evalue": "expected an indented block after 'if' statement on line 5 (48881521.py, line 6)",
     "output_type": "error",
     "traceback": [
      "  \u001b[36mCell\u001b[39m\u001b[36m \u001b[39m\u001b[32mIn[20]\u001b[39m\u001b[32m, line 6\u001b[39m\n\u001b[31m    \u001b[39m\u001b[31mtotal += x\u001b[39m\n    ^\n\u001b[31mIndentationError\u001b[39m\u001b[31m:\u001b[39m expected an indented block after 'if' statement on line 5\n"
     ]
    }
   ],
   "source": [
    "# Error code\n",
    "x = 1\n",
    "total = 0\n",
    "        \n",
    "if x != 0:\n",
    "total += x\n",
    "print(total)"
   ]
  },
  {
   "cell_type": "code",
   "execution_count": 21,
   "metadata": {},
   "outputs": [
    {
     "name": "stdout",
     "output_type": "stream",
     "text": [
      "Positive number\n",
      "This statement always executes\n"
     ]
    }
   ],
   "source": [
    "number = int(input('Enter a number: '))\n",
    "\n",
    "if number > 0:\n",
    "    print('Positive number')\n",
    "else:\n",
    "    print('Not a positive number')\n",
    "\n",
    "print('This statement always executes')"
   ]
  },
  {
   "cell_type": "code",
   "execution_count": 22,
   "metadata": {},
   "outputs": [
    {
     "name": "stdout",
     "output_type": "stream",
     "text": [
      "Negative number\n",
      "This statement is always executed\n"
     ]
    }
   ],
   "source": [
    "number = -5\n",
    "\n",
    "if number > 0:\n",
    "    print('Positive number')\n",
    "\n",
    "elif number < 0:\n",
    "    print('Negative number')\n",
    "\n",
    "else:\n",
    "    print('Zero')\n",
    "\n",
    "print('This statement is always executed')"
   ]
  },
  {
   "cell_type": "code",
   "execution_count": 23,
   "metadata": {},
   "outputs": [
    {
     "name": "stdout",
     "output_type": "stream",
     "text": [
      "Number is positive\n"
     ]
    }
   ],
   "source": [
    "number = 5\n",
    "\n",
    "# outer if statement\n",
    "if number >= 0:\n",
    "    # inner if statement\n",
    "    if number == 0:\n",
    "      print('Number is 0')\n",
    "    \n",
    "    # inner else statement\n",
    "    else:\n",
    "        print('Number is positive')\n",
    "\n",
    "# outer else statement\n",
    "else:\n",
    "    print('Number is negative')"
   ]
  },
  {
   "cell_type": "code",
   "execution_count": 28,
   "metadata": {},
   "outputs": [
    {
     "name": "stdout",
     "output_type": "stream",
     "text": [
      "Your score is 15 which means you failed. :/\n"
     ]
    }
   ],
   "source": [
    "#practice: write a function that checks whether a student passed or failed. passing is a score of 50 and above. assume they only enter integers\n",
    "\n",
    "#note to self: for inputs, you need to say whether its a int or float, because otherwise it sees it as a string\n",
    "StudentScore = int(input('Enter the score of your exam:'))\n",
    "\n",
    "if StudentScore >= 50:\n",
    "    print('Your score is', StudentScore, 'which means you passed! :)')\n",
    "else:\n",
    "    print('Your score is', StudentScore, 'which means you failed. :/')"
   ]
  },
  {
   "cell_type": "code",
   "execution_count": 31,
   "metadata": {},
   "outputs": [
    {
     "name": "stdout",
     "output_type": "stream",
     "text": [
      "Swift\n",
      "Python\n",
      "Go\n"
     ]
    }
   ],
   "source": [
    "#For Loops!!\n",
    "\n",
    "languages = ['Swift', 'Python', 'Go']\n",
    "\n",
    "# access elements of the list one by one\n",
    "for lang in languages:\n",
    "    print(lang)"
   ]
  },
  {
   "cell_type": "code",
   "execution_count": 30,
   "metadata": {},
   "outputs": [
    {
     "name": "stdout",
     "output_type": "stream",
     "text": [
      "Swift\n",
      "-----\n",
      "Python\n",
      "-----\n",
      "Go\n",
      "-----\n",
      "Last statement\n"
     ]
    }
   ],
   "source": [
    "languages = ['Swift', 'Python', 'Go']\n",
    "\n",
    "# start of the loop\n",
    "for lang in languages:\n",
    "    print(lang)\n",
    "    print('-----')\n",
    "# end of the for loop\n",
    "\n",
    "print('Last statement')"
   ]
  },
  {
   "cell_type": "code",
   "execution_count": 32,
   "metadata": {},
   "outputs": [
    {
     "name": "stdout",
     "output_type": "stream",
     "text": [
      "P\n",
      "y\n",
      "t\n",
      "h\n",
      "o\n",
      "n\n"
     ]
    }
   ],
   "source": [
    "language = 'Python'\n",
    "\n",
    "# iterate over each character in language\n",
    "for x in language:\n",
    "    print(x)"
   ]
  },
  {
   "cell_type": "code",
   "execution_count": 33,
   "metadata": {},
   "outputs": [
    {
     "name": "stdout",
     "output_type": "stream",
     "text": [
      "0\n",
      "1\n",
      "2\n",
      "3\n"
     ]
    }
   ],
   "source": [
    "# iterate from i = 0 to i = 3\n",
    "for i in range(0, 4):\n",
    "    print(i)"
   ]
  },
  {
   "cell_type": "code",
   "execution_count": 35,
   "metadata": {},
   "outputs": [
    {
     "name": "stdout",
     "output_type": "stream",
     "text": [
      "Swift\n",
      "Python\n"
     ]
    }
   ],
   "source": [
    "languages = ['Swift', 'Python', 'Go', 'C++']\n",
    "\n",
    "#break means it terminates the for loop immidiately before looping through all items\n",
    "for lang in languages:\n",
    "    if lang == 'Go':\n",
    "        break\n",
    "    print(lang)"
   ]
  },
  {
   "cell_type": "code",
   "execution_count": 36,
   "metadata": {},
   "outputs": [
    {
     "name": "stdout",
     "output_type": "stream",
     "text": [
      "Swift\n",
      "Python\n",
      "C++\n"
     ]
    }
   ],
   "source": [
    "# continue skips the current iteration of the loop and continues with the next iteration\n",
    "languages = ['Swift', 'Python', 'Go', 'C++']\n",
    "\n",
    "for lang in languages:\n",
    "    if lang == 'Go':\n",
    "        continue\n",
    "    print(lang)"
   ]
  },
  {
   "cell_type": "code",
   "execution_count": 37,
   "metadata": {},
   "outputs": [
    {
     "name": "stdout",
     "output_type": "stream",
     "text": [
      "Electric Tesla\n",
      "Electric Porsche\n",
      "Electric Mercedes\n",
      "-----\n",
      "Fast Tesla\n",
      "Fast Porsche\n",
      "Fast Mercedes\n",
      "-----\n"
     ]
    }
   ],
   "source": [
    "# nested for loops ;-;\n",
    "# outer loop \n",
    "attributes = ['Electric', 'Fast']\n",
    "cars = ['Tesla', 'Porsche', 'Mercedes']\n",
    "\n",
    "for attribute in attributes:\n",
    "    for car in cars:\n",
    "        print(attribute, car)\n",
    "    \n",
    "    # this statement is outside the inner loop\n",
    "    print(\"-----\")\n",
    "  "
   ]
  },
  {
   "cell_type": "code",
   "execution_count": 39,
   "metadata": {},
   "outputs": [
    {
     "name": "stdout",
     "output_type": "stream",
     "text": [
      "Hi\n",
      "Hi\n",
      "Hi\n",
      "Hi\n"
     ]
    }
   ],
   "source": [
    "# iterate from i = 0 to 3\n",
    "for _ in range(0, 4):\n",
    "    print('Hi')"
   ]
  },
  {
   "cell_type": "code",
   "execution_count": 43,
   "metadata": {},
   "outputs": [
    {
     "name": "stdout",
     "output_type": "stream",
     "text": [
      "120\n"
     ]
    }
   ],
   "source": [
    "#practice: write a function to calculate the factorial of a number. assume we only enter integers\n",
    "\n",
    "# the def is to define a custom function\n",
    "# def factorial(n):\n",
    "n = int(input('Enter an integer:'))\n",
    "factorialAns = 1    #NEED TO INITIALIZE A VARIABLE!!\n",
    "\n",
    "for i in range(1, n+1):\n",
    "      factorialAns *= i\n",
    "print(factorialAns)"
   ]
  },
  {
   "cell_type": "code",
   "execution_count": 44,
   "metadata": {},
   "outputs": [
    {
     "name": "stdout",
     "output_type": "stream",
     "text": [
      "1\n",
      "2\n",
      "3\n"
     ]
    }
   ],
   "source": [
    "# While loops\n",
    "number = 1\n",
    "\n",
    "while number <= 3:\n",
    "    print(number)\n",
    "    number = number + 1"
   ]
  },
  {
   "cell_type": "code",
   "execution_count": 45,
   "metadata": {},
   "outputs": [
    {
     "name": "stdout",
     "output_type": "stream",
     "text": [
      "You entered 5.\n",
      "You entered 4.\n",
      "You entered 3.\n",
      "You entered 2.\n",
      "You entered 1.\n",
      "The end.\n"
     ]
    }
   ],
   "source": [
    "# Print numbers until the user enters 0\n",
    "number = int(input('Enter a number: '))\n",
    "\n",
    "# iterate until the user enters 0\n",
    "while number != 0:\n",
    "    print(f'You entered {number}.')\n",
    "    number = int(input('Enter a number: '))\n",
    "\n",
    "print('The end.')\n"
   ]
  },
  {
   "cell_type": "code",
   "execution_count": null,
   "metadata": {},
   "outputs": [],
   "source": [
    "age = 32\n",
    "#DONT RUN THIS LOL\n",
    "\n",
    "# The test condition is always True, leading to an infinite loop\n",
    "while age > 18:\n",
    "    print('You can vote')\n",
    "\n",
    "#same with this one too\n",
    "age = 32\n",
    "    \n",
    "# the test condition is always True\n",
    "while True:\n",
    "    print('You can vote')"
   ]
  },
  {
   "cell_type": "code",
   "execution_count": 49,
   "metadata": {},
   "outputs": [
    {
     "name": "stdout",
     "output_type": "stream",
     "text": [
      "Fibonacci sequence less than 25 is:\n",
      "[0, 1, 1, 2, 3, 5, 8, 13, 21]\n"
     ]
    }
   ],
   "source": [
    "#Practice: write a program to get the fibonacci sequence less than a given number.\n",
    "limit = int(input(\"Enter a number: \"))\n",
    "a, b = 0, 1 #DONT FORGET TO INITIALIZE\n",
    "\n",
    "fib_sequence = []\n",
    "\n",
    "while a < limit:\n",
    "    fib_sequence.append(a)\n",
    "    a, b = b, a + b\n",
    "\n",
    "# Print the result\n",
    "print(\"Fibonacci sequence less than\", limit, \"is:\")\n",
    "print(fib_sequence)\n"
   ]
  },
  {
   "cell_type": "code",
   "execution_count": 51,
   "metadata": {},
   "outputs": [
    {
     "name": "stdout",
     "output_type": "stream",
     "text": [
      "0\n",
      "1\n",
      "2\n"
     ]
    }
   ],
   "source": [
    "#Break and Continue\n",
    "\n",
    "#when using break in a for loop, it will terminate the loop when a certain condition is met\n",
    "for i in range(5):\n",
    "    if i == 3:\n",
    "        break\n",
    "    print(i)"
   ]
  },
  {
   "cell_type": "code",
   "execution_count": 52,
   "metadata": {},
   "outputs": [
    {
     "name": "stdout",
     "output_type": "stream",
     "text": [
      "0\n",
      "1\n",
      "2\n",
      "4\n"
     ]
    }
   ],
   "source": [
    "#when using continue in for loops, the statement will skip the given iteration and then continue\n",
    "for i in range(5):\n",
    "    if i == 3:\n",
    "        continue\n",
    "    print(i)"
   ]
  },
  {
   "cell_type": "code",
   "execution_count": 55,
   "metadata": {},
   "outputs": [
    {
     "name": "stdout",
     "output_type": "stream",
     "text": [
      "9\n"
     ]
    }
   ],
   "source": [
    "#Practice: write a function to calculate the sum of elements in a list that are greater than a given number\n",
    "total = 0\n",
    "lst = [1, 2, 3, 4, 5]\n",
    "threshold = 3\n",
    "for num in lst:\n",
    "    if num > threshold:\n",
    "         total += num\n",
    "print(total)"
   ]
  },
  {
   "cell_type": "code",
   "execution_count": 56,
   "metadata": {},
   "outputs": [
    {
     "name": "stdout",
     "output_type": "stream",
     "text": [
      "Hello\n"
     ]
    }
   ],
   "source": [
    "#Pass statement: used for when you want to return to the code later\n",
    "n = 10\n",
    "\n",
    "# use pass inside if statement\n",
    "if n > 10:\n",
    "    pass\n",
    "\n",
    "print('Hello')"
   ]
  },
  {
   "cell_type": "code",
   "execution_count": null,
   "metadata": {},
   "outputs": [],
   "source": []
  }
 ],
 "metadata": {
  "kernelspec": {
   "display_name": "Python 3",
   "language": "python",
   "name": "python3"
  },
  "language_info": {
   "codemirror_mode": {
    "name": "ipython",
    "version": 3
   },
   "file_extension": ".py",
   "mimetype": "text/x-python",
   "name": "python",
   "nbconvert_exporter": "python",
   "pygments_lexer": "ipython3",
   "version": "3.12.3"
  }
 },
 "nbformat": 4,
 "nbformat_minor": 2
}
