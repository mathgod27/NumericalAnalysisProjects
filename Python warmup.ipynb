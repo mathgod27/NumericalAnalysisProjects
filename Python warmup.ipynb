{
 "cells": [
  {
   "cell_type": "markdown",
   "metadata": {},
   "source": [
    "Here is some Python practice before I get started with Numerical Analysis... "
   ]
  },
  {
   "cell_type": "code",
   "execution_count": 1,
   "metadata": {},
   "outputs": [
    {
     "name": "stdout",
     "output_type": "stream",
     "text": [
      "Hello World! Here is the first python practice line.\n"
     ]
    }
   ],
   "source": [
    "print(\"Hello World! Here is the first python practice line.\")"
   ]
  },
  {
   "cell_type": "code",
   "execution_count": 2,
   "metadata": {},
   "outputs": [
    {
     "name": "stdout",
     "output_type": "stream",
     "text": [
      "25\n"
     ]
    }
   ],
   "source": [
    "#here is a demonstration of how to use a comment\n",
    "print(25)"
   ]
  },
  {
   "cell_type": "code",
   "execution_count": 3,
   "metadata": {},
   "outputs": [
    {
     "name": "stdout",
     "output_type": "stream",
     "text": [
      "Mary\n"
     ]
    }
   ],
   "source": [
    "#here is declaring a variable\n",
    "name = \"Mary\"\n",
    "#print the name\n",
    "print(name)     #Mary"
   ]
  },
  {
   "cell_type": "code",
   "execution_count": 4,
   "metadata": {},
   "outputs": [
    {
     "name": "stdout",
     "output_type": "stream",
     "text": [
      "Hi there world\n"
     ]
    }
   ],
   "source": [
    "# multi\n",
    "# line\n",
    "# comment\n",
    "'''or this is a \n",
    "multi line comment too'''\n",
    "print('Hi there world')"
   ]
  },
  {
   "cell_type": "code",
   "execution_count": 1,
   "metadata": {},
   "outputs": [
    {
     "name": "stdout",
     "output_type": "stream",
     "text": [
      "The sum is:  25\n"
     ]
    }
   ],
   "source": [
    "fnum1 = 15\n",
    "fnum2 = 10\n",
    "\n",
    "sum = fnum1 + fnum2\n",
    "print(\"The sum is: \", sum)\n",
    "#print(\"The product is: \", product) [we commented this out because it doesn't work, so now it won't effect the code]"
   ]
  },
  {
   "cell_type": "code",
   "execution_count": 2,
   "metadata": {},
   "outputs": [
    {
     "name": "stdout",
     "output_type": "stream",
     "text": [
      "27\n",
      "1\n"
     ]
    }
   ],
   "source": [
    "#let's demonstrate changing a variable through lines of code\n",
    "my_fav_num = 27\n",
    "print(my_fav_num)\n",
    "my_fav_num = 1\n",
    "print(my_fav_num)"
   ]
  },
  {
   "cell_type": "code",
   "execution_count": 3,
   "metadata": {},
   "outputs": [
    {
     "name": "stdout",
     "output_type": "stream",
     "text": [
      "27\n",
      "5.6\n",
      "Hola\n"
     ]
    }
   ],
   "source": [
    "#assigning multiple variables to values\n",
    "a, b, c = 27, 5.6, 'Hola'\n",
    "print(a)\n",
    "print(b)\n",
    "print(c)"
   ]
  },
  {
   "cell_type": "code",
   "execution_count": 5,
   "metadata": {},
   "outputs": [
    {
     "name": "stdout",
     "output_type": "stream",
     "text": [
      "programiz.com\n",
      "programiz.com\n"
     ]
    }
   ],
   "source": [
    "#here we made them equal to each other so the same thing will print\n",
    "site1 = site2 = 'programiz.com'\n",
    "print(site1)\n",
    "print(site2)"
   ]
  },
  {
   "cell_type": "code",
   "execution_count": 6,
   "metadata": {},
   "outputs": [
    {
     "name": "stdout",
     "output_type": "stream",
     "text": [
      "Value:  124.23\n",
      "Data Type:  <class 'float'>\n"
     ]
    }
   ],
   "source": [
    "#float is a number with decimals whereas an integer has no decimals\n",
    "int_num = 123\n",
    "float_num = 1.23\n",
    "\n",
    "new_num = int_num + float_num\n",
    "\n",
    "#display new num and classify it\n",
    "print(\"Value: \", new_num)\n",
    "print(\"Data Type: \", type(new_num))"
   ]
  }
 ],
 "metadata": {
  "kernelspec": {
   "display_name": "Python 3",
   "language": "python",
   "name": "python3"
  },
  "language_info": {
   "codemirror_mode": {
    "name": "ipython",
    "version": 3
   },
   "file_extension": ".py",
   "mimetype": "text/x-python",
   "name": "python",
   "nbconvert_exporter": "python",
   "pygments_lexer": "ipython3",
   "version": "3.12.3"
  }
 },
 "nbformat": 4,
 "nbformat_minor": 2
}
