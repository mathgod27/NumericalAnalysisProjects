{
 "cells": [
  {
   "cell_type": "markdown",
   "metadata": {},
   "source": [
    "Here is some Python practice before I get started with Numerical Analysis. Source: https://www.programiz.com/python-programming/getting-started"
   ]
  },
  {
   "cell_type": "code",
   "execution_count": 1,
   "metadata": {},
   "outputs": [
    {
     "name": "stdout",
     "output_type": "stream",
     "text": [
      "Hello World! Here is the first python practice line.\n"
     ]
    }
   ],
   "source": [
    "print(\"Hello World! Here is the first python practice line.\")"
   ]
  },
  {
   "cell_type": "code",
   "execution_count": 2,
   "metadata": {},
   "outputs": [
    {
     "name": "stdout",
     "output_type": "stream",
     "text": [
      "25\n"
     ]
    }
   ],
   "source": [
    "#here is a demonstration of how to use a comment\n",
    "print(25)"
   ]
  },
  {
   "cell_type": "code",
   "execution_count": 3,
   "metadata": {},
   "outputs": [
    {
     "name": "stdout",
     "output_type": "stream",
     "text": [
      "Mary\n"
     ]
    }
   ],
   "source": [
    "#here is declaring a variable\n",
    "name = \"Mary\"\n",
    "#print the name\n",
    "print(name)     #Mary"
   ]
  },
  {
   "cell_type": "code",
   "execution_count": 4,
   "metadata": {},
   "outputs": [
    {
     "name": "stdout",
     "output_type": "stream",
     "text": [
      "Hi there world\n"
     ]
    }
   ],
   "source": [
    "# multi\n",
    "# line\n",
    "# comment\n",
    "'''or this is a \n",
    "multi line comment too'''\n",
    "print('Hi there world')"
   ]
  },
  {
   "cell_type": "code",
   "execution_count": 1,
   "metadata": {},
   "outputs": [
    {
     "name": "stdout",
     "output_type": "stream",
     "text": [
      "The sum is:  25\n"
     ]
    }
   ],
   "source": [
    "fnum1 = 15\n",
    "fnum2 = 10\n",
    "\n",
    "sum = fnum1 + fnum2\n",
    "print(\"The sum is: \", sum)\n",
    "#print(\"The product is: \", product) [we commented this out because it doesn't work, so now it won't effect the code]"
   ]
  },
  {
   "cell_type": "code",
   "execution_count": 2,
   "metadata": {},
   "outputs": [
    {
     "name": "stdout",
     "output_type": "stream",
     "text": [
      "27\n",
      "1\n"
     ]
    }
   ],
   "source": [
    "#let's demonstrate changing a variable through lines of code\n",
    "my_fav_num = 27\n",
    "print(my_fav_num)\n",
    "my_fav_num = 1\n",
    "print(my_fav_num)"
   ]
  },
  {
   "cell_type": "code",
   "execution_count": 3,
   "metadata": {},
   "outputs": [
    {
     "name": "stdout",
     "output_type": "stream",
     "text": [
      "27\n",
      "5.6\n",
      "Hola\n"
     ]
    }
   ],
   "source": [
    "#assigning multiple variables to values\n",
    "a, b, c = 27, 5.6, 'Hola'\n",
    "print(a)\n",
    "print(b)\n",
    "print(c)"
   ]
  },
  {
   "cell_type": "code",
   "execution_count": 5,
   "metadata": {},
   "outputs": [
    {
     "name": "stdout",
     "output_type": "stream",
     "text": [
      "programiz.com\n",
      "programiz.com\n"
     ]
    }
   ],
   "source": [
    "#here we made them equal to each other so the same thing will print\n",
    "site1 = site2 = 'programiz.com'\n",
    "print(site1)\n",
    "print(site2)"
   ]
  },
  {
   "cell_type": "code",
   "execution_count": 6,
   "metadata": {},
   "outputs": [
    {
     "name": "stdout",
     "output_type": "stream",
     "text": [
      "Value:  124.23\n",
      "Data Type:  <class 'float'>\n"
     ]
    }
   ],
   "source": [
    "#float is a number with decimals whereas an integer has no decimals\n",
    "int_num = 123\n",
    "float_num = 1.23\n",
    "\n",
    "new_num = int_num + float_num\n",
    "\n",
    "#display new num and classify it\n",
    "print(\"Value: \", new_num)\n",
    "print(\"Data Type: \", type(new_num))"
   ]
  },
  {
   "cell_type": "code",
   "execution_count": 7,
   "metadata": {},
   "outputs": [
    {
     "name": "stdout",
     "output_type": "stream",
     "text": [
      "Data type of num_string before Type casting: <class 'str'>\n",
      "Data type of num_string after Type casting: <class 'int'>\n",
      "sum: 35\n",
      "data type of num_sum <class 'int'>\n"
     ]
    }
   ],
   "source": [
    "# addition of string and integer using explicit conversion\n",
    "num_string = '12'\n",
    "num_int = 23\n",
    "\n",
    "print(\"Data type of num_string before Type casting:\",type(num_string))\n",
    "\n",
    "#explicit type conversion\n",
    "num_string = int(num_string)\n",
    "\n",
    "print(\"Data type of num_string after Type casting:\",type(num_string))\n",
    "\n",
    "num_sum = num_int + num_string\n",
    "\n",
    "print(\"sum:\", num_sum)\n",
    "print(\"data type of num_sum\", type(num_sum))"
   ]
  },
  {
   "cell_type": "code",
   "execution_count": 8,
   "metadata": {},
   "outputs": [
    {
     "name": "stdout",
     "output_type": "stream",
     "text": [
      "Good Morning! It is rainy today\n"
     ]
    }
   ],
   "source": [
    "#python print() with end parameter\n",
    "\n",
    "# print with end whitespace\n",
    "print('Good Morning!', end= ' ')\n",
    "\n",
    "print('It is rainy today')"
   ]
  },
  {
   "cell_type": "code",
   "execution_count": 10,
   "metadata": {},
   "outputs": [
    {
     "name": "stdout",
     "output_type": "stream",
     "text": [
      "New Year. 2023. See you soon!\n",
      "Programiz is awesome.\n",
      "The value of x is 5 and y is 10\n"
     ]
    }
   ],
   "source": [
    "print('New Year', 2023, 'See you soon!', sep= '. ')\n",
    "print('Programiz is ' + 'awesome.')\n",
    "x = 5\n",
    "y = 10\n",
    "\n",
    "print('The value of x is {} and y is {}'.format(x,y))"
   ]
  },
  {
   "cell_type": "code",
   "execution_count": 11,
   "metadata": {},
   "outputs": [
    {
     "name": "stdout",
     "output_type": "stream",
     "text": [
      "You Entered: 5\n",
      "Data type of num: <class 'str'>\n"
     ]
    }
   ],
   "source": [
    "#input with print\n",
    "# using input() to take user input\n",
    "num = input('Enter a number: ')\n",
    "\n",
    "print('You Entered:', num)\n",
    "\n",
    "print('Data type of num:', type(num))\n",
    "#making it an int\n",
    "num = int(input('Enter a number: '))"
   ]
  },
  {
   "cell_type": "code",
   "execution_count": 12,
   "metadata": {},
   "outputs": [
    {
     "name": "stdout",
     "output_type": "stream",
     "text": [
      "Sum:  9\n",
      "Subtraction:  5\n",
      "Multiplication:  14\n",
      "Division:  3.5\n",
      "Floor Division:  3\n",
      "Modulo:  1\n",
      "Power:  49\n"
     ]
    }
   ],
   "source": [
    "#operators\n",
    "a = 7\n",
    "b = 2\n",
    "\n",
    "# addition\n",
    "print ('Sum: ', a + b)  \n",
    "\n",
    "# subtraction\n",
    "print ('Subtraction: ', a - b)   \n",
    "\n",
    "# multiplication\n",
    "print ('Multiplication: ', a * b)  \n",
    "\n",
    "# division\n",
    "print ('Division: ', a / b) \n",
    "\n",
    "# floor division\n",
    "print ('Floor Division: ', a // b)\n",
    "\n",
    "# modulo\n",
    "print ('Modulo: ', a % b)  \n",
    "\n",
    "# a to the power b\n",
    "print ('Power: ', a ** b)   "
   ]
  },
  {
   "cell_type": "code",
   "execution_count": 13,
   "metadata": {},
   "outputs": [
    {
     "name": "stdout",
     "output_type": "stream",
     "text": [
      "15\n"
     ]
    }
   ],
   "source": [
    "#logic operators\n",
    "# assign 10 to a\n",
    "a = 10\n",
    "\n",
    "# assign 5 to b\n",
    "b = 5 \n",
    "\n",
    "# assign the sum of a and b to a\n",
    "a += b      # a = a + b\n",
    "\n",
    "print(a)\n",
    "\n",
    "# Output: 15"
   ]
  },
  {
   "cell_type": "code",
   "execution_count": 14,
   "metadata": {},
   "outputs": [
    {
     "name": "stdout",
     "output_type": "stream",
     "text": [
      "a == b = False\n",
      "a != b = True\n",
      "a > b = True\n",
      "a < b = False\n",
      "a >= b = True\n",
      "a <= b = False\n"
     ]
    }
   ],
   "source": [
    "#true/false\n",
    "a = 5\n",
    "\n",
    "b = 2\n",
    "\n",
    "# equal to operator\n",
    "print('a == b =', a == b)\n",
    "\n",
    "# not equal to operator\n",
    "print('a != b =', a != b)\n",
    "\n",
    "# greater than operator\n",
    "print('a > b =', a > b)\n",
    "\n",
    "# less than operator\n",
    "print('a < b =', a < b)\n",
    "\n",
    "# greater than or equal to operator\n",
    "print('a >= b =', a >= b)\n",
    "\n",
    "# less than or equal to operator\n",
    "print('a <= b =', a <= b)"
   ]
  },
  {
   "cell_type": "code",
   "execution_count": 15,
   "metadata": {},
   "outputs": [
    {
     "name": "stdout",
     "output_type": "stream",
     "text": [
      "True\n",
      "False\n",
      "True\n",
      "False\n"
     ]
    }
   ],
   "source": [
    "#more logic \n",
    "# logical AND\n",
    "print(True and True)     # True\n",
    "print(True and False)    # False\n",
    "\n",
    "# logical OR\n",
    "print(True or False)     # True\n",
    "\n",
    "# logical NOT\n",
    "print(not True)          # False"
   ]
  },
  {
   "cell_type": "code",
   "execution_count": 16,
   "metadata": {},
   "outputs": [
    {
     "name": "stdout",
     "output_type": "stream",
     "text": [
      "False\n",
      "True\n",
      "False\n"
     ]
    }
   ],
   "source": [
    "x1 = 5\n",
    "y1 = 5\n",
    "x2 = 'Hello'\n",
    "y2 = 'Hello'\n",
    "x3 = [1,2,3]\n",
    "y3 = [1,2,3]\n",
    "\n",
    "print(x1 is not y1)  # prints False\n",
    "\n",
    "print(x2 is y2)  # prints True\n",
    "\n",
    "print(x3 is y3)  # prints False"
   ]
  },
  {
   "cell_type": "code",
   "execution_count": 17,
   "metadata": {},
   "outputs": [
    {
     "name": "stdout",
     "output_type": "stream",
     "text": [
      "True\n",
      "True\n",
      "True\n",
      "False\n"
     ]
    }
   ],
   "source": [
    "message = 'Hello world'\n",
    "dict1 = {1:'a', 2:'b'}\n",
    "\n",
    "# check if 'H' is present in message string\n",
    "print('H' in message)  # prints True\n",
    "\n",
    "# check if 'hello' is present in message string\n",
    "print('hello' not in message)  # prints True\n",
    "\n",
    "# check if '1' key is present in dict1\n",
    "print(1 in dict1)  # prints True\n",
    "\n",
    "# check if 'a' key is present in dict1\n",
    "print('a' in dict1)  # prints False"
   ]
  },
  {
   "cell_type": "code",
   "execution_count": 18,
   "metadata": {},
   "outputs": [
    {
     "name": "stdout",
     "output_type": "stream",
     "text": [
      "5 is a positive number.\n",
      "A statement outside the if statement.\n"
     ]
    }
   ],
   "source": [
    "#if statements\n",
    "number = int(input('Enter a number: '))\n",
    "\n",
    "# check if number is greater than 0\n",
    "if number > 0:\n",
    "    print(f'{number} is a positive number.')\n",
    "\n",
    "print('A statement outside the if statement.')"
   ]
  },
  {
   "cell_type": "code",
   "execution_count": 19,
   "metadata": {},
   "outputs": [
    {
     "name": "stdout",
     "output_type": "stream",
     "text": [
      "1\n",
      "This is always executed.\n"
     ]
    }
   ],
   "source": [
    "x = 1\n",
    "total = 0\n",
    "\n",
    "# start of the if statement\n",
    "if x != 0:\n",
    "    total += x\n",
    "    print(total)  \n",
    "# end of the if statement\n",
    "\n",
    "print(\"This is always executed.\")"
   ]
  },
  {
   "cell_type": "code",
   "execution_count": 20,
   "metadata": {},
   "outputs": [
    {
     "ename": "IndentationError",
     "evalue": "expected an indented block after 'if' statement on line 5 (48881521.py, line 6)",
     "output_type": "error",
     "traceback": [
      "  \u001b[36mCell\u001b[39m\u001b[36m \u001b[39m\u001b[32mIn[20]\u001b[39m\u001b[32m, line 6\u001b[39m\n\u001b[31m    \u001b[39m\u001b[31mtotal += x\u001b[39m\n    ^\n\u001b[31mIndentationError\u001b[39m\u001b[31m:\u001b[39m expected an indented block after 'if' statement on line 5\n"
     ]
    }
   ],
   "source": [
    "# Error code\n",
    "x = 1\n",
    "total = 0\n",
    "        \n",
    "if x != 0:\n",
    "total += x\n",
    "print(total)"
   ]
  },
  {
   "cell_type": "code",
   "execution_count": 21,
   "metadata": {},
   "outputs": [
    {
     "name": "stdout",
     "output_type": "stream",
     "text": [
      "Positive number\n",
      "This statement always executes\n"
     ]
    }
   ],
   "source": [
    "number = int(input('Enter a number: '))\n",
    "\n",
    "if number > 0:\n",
    "    print('Positive number')\n",
    "else:\n",
    "    print('Not a positive number')\n",
    "\n",
    "print('This statement always executes')"
   ]
  },
  {
   "cell_type": "code",
   "execution_count": 22,
   "metadata": {},
   "outputs": [
    {
     "name": "stdout",
     "output_type": "stream",
     "text": [
      "Negative number\n",
      "This statement is always executed\n"
     ]
    }
   ],
   "source": [
    "number = -5\n",
    "\n",
    "if number > 0:\n",
    "    print('Positive number')\n",
    "\n",
    "elif number < 0:\n",
    "    print('Negative number')\n",
    "\n",
    "else:\n",
    "    print('Zero')\n",
    "\n",
    "print('This statement is always executed')"
   ]
  },
  {
   "cell_type": "code",
   "execution_count": 23,
   "metadata": {},
   "outputs": [
    {
     "name": "stdout",
     "output_type": "stream",
     "text": [
      "Number is positive\n"
     ]
    }
   ],
   "source": [
    "number = 5\n",
    "\n",
    "# outer if statement\n",
    "if number >= 0:\n",
    "    # inner if statement\n",
    "    if number == 0:\n",
    "      print('Number is 0')\n",
    "    \n",
    "    # inner else statement\n",
    "    else:\n",
    "        print('Number is positive')\n",
    "\n",
    "# outer else statement\n",
    "else:\n",
    "    print('Number is negative')"
   ]
  },
  {
   "cell_type": "code",
   "execution_count": 28,
   "metadata": {},
   "outputs": [
    {
     "name": "stdout",
     "output_type": "stream",
     "text": [
      "Your score is 15 which means you failed. :/\n"
     ]
    }
   ],
   "source": [
    "#practice: write a function that checks whether a student passed or failed. passing is a score of 50 and above. assume they only enter integers\n",
    "\n",
    "#note to self: for inputs, you need to say whether its a int or float, because otherwise it sees it as a string\n",
    "StudentScore = int(input('Enter the score of your exam:'))\n",
    "\n",
    "if StudentScore >= 50:\n",
    "    print('Your score is', StudentScore, 'which means you passed! :)')\n",
    "else:\n",
    "    print('Your score is', StudentScore, 'which means you failed. :/')"
   ]
  },
  {
   "cell_type": "code",
   "execution_count": 31,
   "metadata": {},
   "outputs": [
    {
     "name": "stdout",
     "output_type": "stream",
     "text": [
      "Swift\n",
      "Python\n",
      "Go\n"
     ]
    }
   ],
   "source": [
    "#For Loops!!\n",
    "\n",
    "languages = ['Swift', 'Python', 'Go']\n",
    "\n",
    "# access elements of the list one by one\n",
    "for lang in languages:\n",
    "    print(lang)"
   ]
  },
  {
   "cell_type": "code",
   "execution_count": 30,
   "metadata": {},
   "outputs": [
    {
     "name": "stdout",
     "output_type": "stream",
     "text": [
      "Swift\n",
      "-----\n",
      "Python\n",
      "-----\n",
      "Go\n",
      "-----\n",
      "Last statement\n"
     ]
    }
   ],
   "source": [
    "languages = ['Swift', 'Python', 'Go']\n",
    "\n",
    "# start of the loop\n",
    "for lang in languages:\n",
    "    print(lang)\n",
    "    print('-----')\n",
    "# end of the for loop\n",
    "\n",
    "print('Last statement')"
   ]
  },
  {
   "cell_type": "code",
   "execution_count": 32,
   "metadata": {},
   "outputs": [
    {
     "name": "stdout",
     "output_type": "stream",
     "text": [
      "P\n",
      "y\n",
      "t\n",
      "h\n",
      "o\n",
      "n\n"
     ]
    }
   ],
   "source": [
    "language = 'Python'\n",
    "\n",
    "# iterate over each character in language\n",
    "for x in language:\n",
    "    print(x)"
   ]
  },
  {
   "cell_type": "code",
   "execution_count": 33,
   "metadata": {},
   "outputs": [
    {
     "name": "stdout",
     "output_type": "stream",
     "text": [
      "0\n",
      "1\n",
      "2\n",
      "3\n"
     ]
    }
   ],
   "source": [
    "# iterate from i = 0 to i = 3\n",
    "for i in range(0, 4):\n",
    "    print(i)"
   ]
  },
  {
   "cell_type": "code",
   "execution_count": 35,
   "metadata": {},
   "outputs": [
    {
     "name": "stdout",
     "output_type": "stream",
     "text": [
      "Swift\n",
      "Python\n"
     ]
    }
   ],
   "source": [
    "languages = ['Swift', 'Python', 'Go', 'C++']\n",
    "\n",
    "#break means it terminates the for loop immidiately before looping through all items\n",
    "for lang in languages:\n",
    "    if lang == 'Go':\n",
    "        break\n",
    "    print(lang)"
   ]
  },
  {
   "cell_type": "code",
   "execution_count": 36,
   "metadata": {},
   "outputs": [
    {
     "name": "stdout",
     "output_type": "stream",
     "text": [
      "Swift\n",
      "Python\n",
      "C++\n"
     ]
    }
   ],
   "source": [
    "# continue skips the current iteration of the loop and continues with the next iteration\n",
    "languages = ['Swift', 'Python', 'Go', 'C++']\n",
    "\n",
    "for lang in languages:\n",
    "    if lang == 'Go':\n",
    "        continue\n",
    "    print(lang)"
   ]
  },
  {
   "cell_type": "code",
   "execution_count": 37,
   "metadata": {},
   "outputs": [
    {
     "name": "stdout",
     "output_type": "stream",
     "text": [
      "Electric Tesla\n",
      "Electric Porsche\n",
      "Electric Mercedes\n",
      "-----\n",
      "Fast Tesla\n",
      "Fast Porsche\n",
      "Fast Mercedes\n",
      "-----\n"
     ]
    }
   ],
   "source": [
    "# nested for loops ;-;\n",
    "# outer loop \n",
    "attributes = ['Electric', 'Fast']\n",
    "cars = ['Tesla', 'Porsche', 'Mercedes']\n",
    "\n",
    "for attribute in attributes:\n",
    "    for car in cars:\n",
    "        print(attribute, car)\n",
    "    \n",
    "    # this statement is outside the inner loop\n",
    "    print(\"-----\")\n",
    "  "
   ]
  },
  {
   "cell_type": "code",
   "execution_count": 39,
   "metadata": {},
   "outputs": [
    {
     "name": "stdout",
     "output_type": "stream",
     "text": [
      "Hi\n",
      "Hi\n",
      "Hi\n",
      "Hi\n"
     ]
    }
   ],
   "source": [
    "# iterate from i = 0 to 3\n",
    "for _ in range(0, 4):\n",
    "    print('Hi')"
   ]
  },
  {
   "cell_type": "code",
   "execution_count": 43,
   "metadata": {},
   "outputs": [
    {
     "name": "stdout",
     "output_type": "stream",
     "text": [
      "120\n"
     ]
    }
   ],
   "source": [
    "#practice: write a function to calculate the factorial of a number. assume we only enter integers\n",
    "\n",
    "# the def is to define a custom function\n",
    "# def factorial(n):\n",
    "n = int(input('Enter an integer:'))\n",
    "factorialAns = 1    #NEED TO INITIALIZE A VARIABLE!!\n",
    "\n",
    "for i in range(1, n+1):\n",
    "      factorialAns *= i\n",
    "print(factorialAns)"
   ]
  },
  {
   "cell_type": "code",
   "execution_count": 44,
   "metadata": {},
   "outputs": [
    {
     "name": "stdout",
     "output_type": "stream",
     "text": [
      "1\n",
      "2\n",
      "3\n"
     ]
    }
   ],
   "source": [
    "# While loops\n",
    "number = 1\n",
    "\n",
    "while number <= 3:\n",
    "    print(number)\n",
    "    number = number + 1"
   ]
  },
  {
   "cell_type": "code",
   "execution_count": 45,
   "metadata": {},
   "outputs": [
    {
     "name": "stdout",
     "output_type": "stream",
     "text": [
      "You entered 5.\n",
      "You entered 4.\n",
      "You entered 3.\n",
      "You entered 2.\n",
      "You entered 1.\n",
      "The end.\n"
     ]
    }
   ],
   "source": [
    "# Print numbers until the user enters 0\n",
    "number = int(input('Enter a number: '))\n",
    "\n",
    "# iterate until the user enters 0\n",
    "while number != 0:\n",
    "    print(f'You entered {number}.')\n",
    "    number = int(input('Enter a number: '))\n",
    "\n",
    "print('The end.')\n"
   ]
  },
  {
   "cell_type": "code",
   "execution_count": null,
   "metadata": {},
   "outputs": [],
   "source": [
    "age = 32\n",
    "#DONT RUN THIS LOL\n",
    "\n",
    "# The test condition is always True, leading to an infinite loop\n",
    "while age > 18:\n",
    "    print('You can vote')\n",
    "\n",
    "#same with this one too\n",
    "age = 32\n",
    "    \n",
    "# the test condition is always True\n",
    "while True:\n",
    "    print('You can vote')"
   ]
  },
  {
   "cell_type": "code",
   "execution_count": 49,
   "metadata": {},
   "outputs": [
    {
     "name": "stdout",
     "output_type": "stream",
     "text": [
      "Fibonacci sequence less than 25 is:\n",
      "[0, 1, 1, 2, 3, 5, 8, 13, 21]\n"
     ]
    }
   ],
   "source": [
    "#Practice: write a program to get the fibonacci sequence less than a given number.\n",
    "limit = int(input(\"Enter a number: \"))\n",
    "a, b = 0, 1 #DONT FORGET TO INITIALIZE\n",
    "\n",
    "fib_sequence = []\n",
    "\n",
    "while a < limit:\n",
    "    fib_sequence.append(a)\n",
    "    a, b = b, a + b\n",
    "\n",
    "# Print the result\n",
    "print(\"Fibonacci sequence less than\", limit, \"is:\")\n",
    "print(fib_sequence)\n"
   ]
  },
  {
   "cell_type": "code",
   "execution_count": 51,
   "metadata": {},
   "outputs": [
    {
     "name": "stdout",
     "output_type": "stream",
     "text": [
      "0\n",
      "1\n",
      "2\n"
     ]
    }
   ],
   "source": [
    "#Break and Continue\n",
    "\n",
    "#when using break in a for loop, it will terminate the loop when a certain condition is met\n",
    "for i in range(5):\n",
    "    if i == 3:\n",
    "        break\n",
    "    print(i)"
   ]
  },
  {
   "cell_type": "code",
   "execution_count": 52,
   "metadata": {},
   "outputs": [
    {
     "name": "stdout",
     "output_type": "stream",
     "text": [
      "0\n",
      "1\n",
      "2\n",
      "4\n"
     ]
    }
   ],
   "source": [
    "#when using continue in for loops, the statement will skip the given iteration and then continue\n",
    "for i in range(5):\n",
    "    if i == 3:\n",
    "        continue\n",
    "    print(i)"
   ]
  },
  {
   "cell_type": "code",
   "execution_count": 55,
   "metadata": {},
   "outputs": [
    {
     "name": "stdout",
     "output_type": "stream",
     "text": [
      "9\n"
     ]
    }
   ],
   "source": [
    "#Practice: write a function to calculate the sum of elements in a list that are greater than a given number\n",
    "total = 0\n",
    "lst = [1, 2, 3, 4, 5]\n",
    "threshold = 3\n",
    "for num in lst:\n",
    "    if num > threshold:\n",
    "         total += num\n",
    "print(total)"
   ]
  },
  {
   "cell_type": "code",
   "execution_count": 56,
   "metadata": {},
   "outputs": [
    {
     "name": "stdout",
     "output_type": "stream",
     "text": [
      "Hello\n"
     ]
    }
   ],
   "source": [
    "#Pass statement: used for when you want to return to the code later\n",
    "n = 10\n",
    "\n",
    "# use pass inside if statement\n",
    "if n > 10:\n",
    "    pass\n",
    "\n",
    "print('Hello')"
   ]
  },
  {
   "cell_type": "code",
   "execution_count": 1,
   "metadata": {},
   "outputs": [
    {
     "name": "stdout",
     "output_type": "stream",
     "text": [
      "5 is of type <class 'int'>\n",
      "5.42 is of type <class 'float'>\n",
      "(8+2j) is of type <class 'complex'>\n"
     ]
    }
   ],
   "source": [
    "#type of numbers for mathematics\n",
    "num1 = 5\n",
    "print(num1, 'is of type', type(num1))\n",
    "\n",
    "num2 = 5.42\n",
    "print(num2, 'is of type', type(num2))\n",
    "\n",
    "num3 = 8+2j\n",
    "print(num3, 'is of type', type(num3))"
   ]
  },
  {
   "cell_type": "code",
   "execution_count": 2,
   "metadata": {},
   "outputs": [
    {
     "name": "stdout",
     "output_type": "stream",
     "text": [
      "107\n",
      "253\n",
      "13\n"
     ]
    }
   ],
   "source": [
    "#binary, octal, and hexadecimal\n",
    "print(0b1101011)  # prints 107\n",
    "\n",
    "print(0xFB + 0b10)  # prints 253\n",
    "\n",
    "print(0o15)  # prints 13"
   ]
  },
  {
   "cell_type": "code",
   "execution_count": 3,
   "metadata": {},
   "outputs": [
    {
     "name": "stdout",
     "output_type": "stream",
     "text": [
      "2\n",
      "-2\n",
      "5.0\n",
      "(3+5j)\n"
     ]
    }
   ],
   "source": [
    "num1 = int(2.3)\n",
    "print(num1)  # prints 2\n",
    "\n",
    "num2 = int(-2.8)\n",
    "print(num2)  # prints -2\n",
    "\n",
    "num3 = float(5)\n",
    "print(num3) # prints 5.0\n",
    "\n",
    "num4 = complex('3+5j')\n",
    "print(num4)  # prints (3 + 5j)"
   ]
  },
  {
   "cell_type": "code",
   "execution_count": 4,
   "metadata": {},
   "outputs": [
    {
     "name": "stdout",
     "output_type": "stream",
     "text": [
      "13\n",
      "b\n",
      "['e', 'b', 'd', 'a', 'c']\n",
      "0.8479325423275338\n"
     ]
    }
   ],
   "source": [
    "#random numbers *YOU HAVE TO IMPORT IT*\n",
    "import random\n",
    "\n",
    "print(random.randrange(10, 20))\n",
    "\n",
    "list1 = ['a', 'b', 'c', 'd', 'e']\n",
    "\n",
    "# get random item from list1\n",
    "print(random.choice(list1))\n",
    "\n",
    "# Shuffle list1\n",
    "random.shuffle(list1)\n",
    "\n",
    "# Print the shuffled list1\n",
    "print(list1)\n",
    "\n",
    "# Print random element\n",
    "print(random.random())"
   ]
  },
  {
   "cell_type": "code",
   "execution_count": 5,
   "metadata": {},
   "outputs": [
    {
     "name": "stdout",
     "output_type": "stream",
     "text": [
      "3.141592653589793\n",
      "-1.0\n",
      "22026.465794806718\n",
      "3.0\n",
      "1.1752011936438014\n",
      "720\n"
     ]
    }
   ],
   "source": [
    "#math library and some of the items in it *IMPORT IT*\n",
    "import math\n",
    "\n",
    "print(math.pi)\n",
    "\n",
    "print(math.cos(math.pi))\n",
    "\n",
    "print(math.exp(10))\n",
    "\n",
    "print(math.log10(1000))\n",
    "\n",
    "print(math.sinh(1))\n",
    "\n",
    "print(math.factorial(6))"
   ]
  },
  {
   "cell_type": "code",
   "execution_count": 8,
   "metadata": {},
   "outputs": [
    {
     "name": "stdout",
     "output_type": "stream",
     "text": [
      "Your circle's area is 78.53981633974483\n"
     ]
    }
   ],
   "source": [
    "#practice: write some code to compute the area of a circle rounded off to two decimal places.\n",
    "import math\n",
    "\n",
    "radius = float(input('Enter the radius of the circle:'))\n",
    "\n",
    "area = math.pi*radius**2\n",
    "print(\"Your circle's area is\", area)"
   ]
  },
  {
   "cell_type": "code",
   "execution_count": 9,
   "metadata": {},
   "outputs": [
    {
     "name": "stdout",
     "output_type": "stream",
     "text": [
      "['Jack', 32, 'Computer Science', [2, 4]]\n",
      "[]\n"
     ]
    }
   ],
   "source": [
    "#lists and indexing\n",
    "# a list containing strings, numbers and another list\n",
    "student = ['Jack', 32, 'Computer Science', [2, 4]]\n",
    "print(student)\n",
    "\n",
    "# an empty list\n",
    "empty_list = []\n",
    "print(empty_list)"
   ]
  },
  {
   "cell_type": "code",
   "execution_count": 10,
   "metadata": {},
   "outputs": [
    {
     "name": "stdout",
     "output_type": "stream",
     "text": [
      "languages[0] = Python\n",
      "languages[2] = C++\n"
     ]
    }
   ],
   "source": [
    "#indexing example\n",
    "languages = ['Python', 'Swift', 'C++']\n",
    "\n",
    "# access the first element\n",
    "print('languages[0] =', languages[0])\n",
    "\n",
    "# access the third element\n",
    "print('languages[2] =', languages[2])"
   ]
  },
  {
   "cell_type": "code",
   "execution_count": 11,
   "metadata": {},
   "outputs": [
    {
     "name": "stdout",
     "output_type": "stream",
     "text": [
      "languages[-1] = C++\n",
      "languages[-3] = Python\n"
     ]
    }
   ],
   "source": [
    "#negative indexing example\n",
    "languages = ['Python', 'Swift', 'C++']\n",
    "\n",
    "# access the last item\n",
    "print('languages[-1] =', languages[-1])\n",
    "\n",
    "# access the third last item\n",
    "print('languages[-3] =', languages[-3]) "
   ]
  },
  {
   "cell_type": "code",
   "execution_count": 12,
   "metadata": {},
   "outputs": [
    {
     "name": "stdout",
     "output_type": "stream",
     "text": [
      "my_list = ['p', 'r', 'o', 'g', 'r', 'a', 'm']\n",
      "my_list[2: 5] = ['o', 'g', 'r']\n",
      "my_list[2: -2] = ['o', 'g', 'r']\n",
      "my_list[0: 3] = ['p', 'r', 'o']\n"
     ]
    }
   ],
   "source": [
    "#getting a certain portion of a list\n",
    "my_list = ['p', 'r', 'o', 'g', 'r', 'a', 'm']\n",
    "print(\"my_list =\", my_list)\n",
    "\n",
    "# get a list with items from index 2 to index 4 (index 5 is not included)\n",
    "print(\"my_list[2: 5] =\", my_list[2: 5])    \n",
    "\n",
    "# get a list with items from index 2 to index -3 (index -2 is not included)\n",
    "print(\"my_list[2: -2] =\", my_list[2: -2])  \n",
    "\n",
    "# get a list with items from index 0 to index 2 (index 3 is not included)\n",
    "print(\"my_list[0: 3] =\", my_list[0: 3])"
   ]
  },
  {
   "cell_type": "code",
   "execution_count": 13,
   "metadata": {},
   "outputs": [
    {
     "name": "stdout",
     "output_type": "stream",
     "text": [
      "my_list = ['p', 'r', 'o', 'g', 'r', 'a', 'm']\n",
      "my_list[5: ] = ['a', 'm']\n",
      "my_list[: -4] = ['p', 'r', 'o']\n",
      "my_list[:] = ['p', 'r', 'o', 'g', 'r', 'a', 'm']\n"
     ]
    }
   ],
   "source": [
    "#slicing\n",
    "my_list = ['p', 'r', 'o', 'g', 'r', 'a', 'm']\n",
    "print(\"my_list =\", my_list)\n",
    "\n",
    "# get a list with items from index 5 to last\n",
    "print(\"my_list[5: ] =\", my_list[5: ])\n",
    "\n",
    "# get a list from the first item to index -5\n",
    "print(\"my_list[: -4] =\", my_list[: -4])\n",
    "\n",
    "# omitting both start and end index\n",
    "# get a list from start to end items\n",
    "print(\"my_list[:] =\", my_list[:])"
   ]
  },
  {
   "cell_type": "code",
   "execution_count": 14,
   "metadata": {},
   "outputs": [
    {
     "name": "stdout",
     "output_type": "stream",
     "text": [
      "my_list = ['p', 'r', 'o', 'g', 'r', 'a', 'm']\n",
      "my_list[5: ] = ['a', 'm']\n",
      "my_list[: -4] = ['p', 'r', 'o']\n",
      "my_list[:] = ['p', 'r', 'o', 'g', 'r', 'a', 'm']\n"
     ]
    }
   ],
   "source": [
    "#omitting start and end indices in slicing\n",
    "my_list = ['p', 'r', 'o', 'g', 'r', 'a', 'm']\n",
    "print(\"my_list =\", my_list)\n",
    "\n",
    "# get a list with items from index 5 to last\n",
    "print(\"my_list[5: ] =\", my_list[5: ])\n",
    "\n",
    "# get a list from the first item to index -5\n",
    "print(\"my_list[: -4] =\", my_list[: -4])\n",
    "\n",
    "# omitting both start and end index\n",
    "# get a list from start to end items\n",
    "print(\"my_list[:] =\", my_list[:])"
   ]
  },
  {
   "cell_type": "code",
   "execution_count": 15,
   "metadata": {},
   "outputs": [
    {
     "name": "stdout",
     "output_type": "stream",
     "text": [
      "Original List: ['apple', 'banana', 'orange']\n",
      "Updated List: ['apple', 'banana', 'orange', 'cherry']\n"
     ]
    }
   ],
   "source": [
    "#add elements to a python list\n",
    "fruits = ['apple', 'banana', 'orange']\n",
    "print('Original List:', fruits)\n",
    "\n",
    "fruits.append('cherry')\n",
    "\n",
    "print('Updated List:', fruits)"
   ]
  },
  {
   "cell_type": "code",
   "execution_count": 16,
   "metadata": {},
   "outputs": [
    {
     "name": "stdout",
     "output_type": "stream",
     "text": [
      "Original List: ['apple', 'banana', 'orange']\n",
      "Updated List: ['apple', 'banana', 'cherry', 'orange']\n"
     ]
    }
   ],
   "source": [
    "#add elements at the specified index\n",
    "fruits = ['apple', 'banana', 'orange']\n",
    "print(\"Original List:\", fruits) \n",
    "\n",
    "fruits.insert(2, 'cherry')\n",
    "\n",
    "print(\"Updated List:\", fruits)"
   ]
  },
  {
   "cell_type": "code",
   "execution_count": 17,
   "metadata": {},
   "outputs": [
    {
     "name": "stdout",
     "output_type": "stream",
     "text": [
      "Numbers: [1, 3, 5]\n",
      "Even numbers: [1, 3, 5]\n",
      "Updated Numbers: [1, 3, 5, 2, 4, 6]\n"
     ]
    }
   ],
   "source": [
    "#add elements to a list from other iterables\n",
    "numbers = [1, 3, 5]\n",
    "print('Numbers:', numbers)\n",
    "\n",
    "even_numbers  = [2, 4, 6]\n",
    "print('Even numbers:', numbers)\n",
    "\n",
    "# adding elements of one list to another\n",
    "numbers.extend(even_numbers)\n",
    "\n",
    "print('Updated Numbers:', numbers) "
   ]
  },
  {
   "cell_type": "code",
   "execution_count": 18,
   "metadata": {},
   "outputs": [
    {
     "name": "stdout",
     "output_type": "stream",
     "text": [
      "Original List: ['Red', 'Black', 'Green']\n",
      "Updated List: ['Red', 'Black', 'Blue']\n"
     ]
    }
   ],
   "source": [
    "#change list items\n",
    "colors = ['Red', 'Black', 'Green']\n",
    "print('Original List:', colors)\n",
    "\n",
    "# change the first item to 'Purple'\n",
    "colors[2] = 'Purple'\n",
    "\n",
    "# change the third item to 'Blue'\n",
    "colors[2] = 'Blue'\n",
    "\n",
    "print('Updated List:', colors)"
   ]
  },
  {
   "cell_type": "code",
   "execution_count": 19,
   "metadata": {},
   "outputs": [
    {
     "name": "stdout",
     "output_type": "stream",
     "text": [
      "[2, 7, 9]\n"
     ]
    }
   ],
   "source": [
    "#removing items from a list\n",
    "numbers = [2,4,7,9]\n",
    "\n",
    "# remove 4 from the list\n",
    "numbers.remove(4)\n",
    "\n",
    "print(numbers) "
   ]
  },
  {
   "cell_type": "code",
   "execution_count": 20,
   "metadata": {},
   "outputs": [
    {
     "name": "stdout",
     "output_type": "stream",
     "text": [
      "['John', 'Laura', 'Nick', 'Jack']\n",
      "['John', 'Jack']\n"
     ]
    },
    {
     "ename": "NameError",
     "evalue": "name 'names' is not defined",
     "output_type": "error",
     "traceback": [
      "\u001b[31m---------------------------------------------------------------------------\u001b[39m",
      "\u001b[31mNameError\u001b[39m                                 Traceback (most recent call last)",
      "\u001b[36mCell\u001b[39m\u001b[36m \u001b[39m\u001b[32mIn[20]\u001b[39m\u001b[32m, line 16\u001b[39m\n\u001b[32m     13\u001b[39m \u001b[38;5;28;01mdel\u001b[39;00m names\n\u001b[32m     15\u001b[39m \u001b[38;5;66;03m# Error! List doesn't exist.\u001b[39;00m\n\u001b[32m---> \u001b[39m\u001b[32m16\u001b[39m \u001b[38;5;28mprint\u001b[39m(\u001b[43mnames\u001b[49m)\n",
      "\u001b[31mNameError\u001b[39m: name 'names' is not defined"
     ]
    }
   ],
   "source": [
    "#removing one or more elements of a list\n",
    "names = ['John', 'Eva', 'Laura', 'Nick', 'Jack']\n",
    "\n",
    "# delete the item at index 1\n",
    "del names[1]\n",
    "print(names)\n",
    "\n",
    "# delete items from index 1 to index 2\n",
    "del names[1: 3]\n",
    "print(names)\n",
    "\n",
    "# delete the entire list\n",
    "del names\n",
    "\n",
    "# Error! List doesn't exist.\n",
    "print(names)"
   ]
  },
  {
   "cell_type": "code",
   "execution_count": 21,
   "metadata": {},
   "outputs": [
    {
     "name": "stdout",
     "output_type": "stream",
     "text": [
      "Total Elements: 3\n",
      "apple\n",
      "banana\n",
      "orange\n"
     ]
    }
   ],
   "source": [
    "#length of lists and iterating through a list\n",
    "cars = ['BMW', 'Mercedes', 'Tesla']\n",
    "\n",
    "print('Total Elements:', len(cars))\n",
    "\n",
    "fruits = ['apple', 'banana', 'orange']\n",
    "\n",
    "# iterate through the list\n",
    "for fruit in fruits:\n",
    "    print(fruit)"
   ]
  },
  {
   "cell_type": "code",
   "execution_count": null,
   "metadata": {},
   "outputs": [],
   "source": [
    "#more python list codes\n",
    "append()\n",
    "#\tAdds an item to the end of the list\n",
    "\n",
    "extend()\n",
    "#\tAdds items of lists and other iterables to the end of the list\n",
    "\n",
    "insert()\n",
    "#\tInserts an item at the specified index\n",
    "\n",
    "remove()\n",
    "#\tRemoves the specified value from the list\n",
    "\n",
    "pop()\n",
    "#\tReturns and removes item present at the given index\n",
    "\n",
    "clear()\n",
    "#\tRemoves all items from the list\n",
    "\n",
    "index()\n",
    "#\tReturns the index of the first matched item\n",
    "\n",
    "count()\n",
    "#\tReturns the count of the specified item in the list\n",
    "\n",
    "sort()\n",
    "#\tSorts the list in ascending/descending order\n",
    "\n",
    "reverse()\n",
    "#\tReverses the item of the list\n",
    "\n",
    "copy()\n",
    "#\tReturns the shallow copy of the list"
   ]
  },
  {
   "cell_type": "code",
   "execution_count": 22,
   "metadata": {},
   "outputs": [
    {
     "name": "stdout",
     "output_type": "stream",
     "text": [
      "The largest number in the list is: 89\n"
     ]
    }
   ],
   "source": [
    "#practice: write a code block to find the largest number in a list\n",
    "\n",
    "numbers = [12, 45, 78, 3, 89, 34]\n",
    "\n",
    "#use max to find the max of the list\n",
    "largest = max(numbers)\n",
    "\n",
    "print(f\"The largest number in the list is: {largest}\")"
   ]
  }
 ],
 "metadata": {
  "kernelspec": {
   "display_name": "Python 3",
   "language": "python",
   "name": "python3"
  },
  "language_info": {
   "codemirror_mode": {
    "name": "ipython",
    "version": 3
   },
   "file_extension": ".py",
   "mimetype": "text/x-python",
   "name": "python",
   "nbconvert_exporter": "python",
   "pygments_lexer": "ipython3",
   "version": "3.12.3"
  }
 },
 "nbformat": 4,
 "nbformat_minor": 2
}
