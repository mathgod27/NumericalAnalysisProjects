{
  "nbformat": 4,
  "nbformat_minor": 0,
  "metadata": {
    "colab": {
      "provenance": [],
      "include_colab_link": true
    },
    "kernelspec": {
      "name": "python3",
      "display_name": "Python 3"
    }
  },
  "cells": [
    {
      "cell_type": "markdown",
      "metadata": {
        "id": "view-in-github",
        "colab_type": "text"
      },
      "source": [
        "<a href=\"https://colab.research.google.com/github/mathgod27/NumericalAnalysisProjects/blob/main/QR_Decomposition_notes.ipynb\" target=\"_parent\"><img src=\"https://colab.research.google.com/assets/colab-badge.svg\" alt=\"Open In Colab\"/></a>"
      ]
    },
    {
      "cell_type": "markdown",
      "metadata": {
        "id": "xo3_nQOLYC5C"
      },
      "source": [
        "# Load Numpy"
      ]
    },
    {
      "cell_type": "code",
      "metadata": {
        "id": "4cjQonAEX_Pe"
      },
      "source": [
        "import numpy as np"
      ],
      "execution_count": null,
      "outputs": []
    },
    {
      "cell_type": "markdown",
      "metadata": {
        "id": "_eFk-mn4a3MB"
      },
      "source": [
        "# QR Decomposition"
      ]
    },
    {
      "cell_type": "code",
      "metadata": {
        "colab": {
          "base_uri": "https://localhost:8080/"
        },
        "id": "9t5x95xOYGH8",
        "outputId": "a1fe2816-b368-412c-b1ca-f834588d2d45"
      },
      "source": [
        "A = np.array([[12, -51, 4],[6, 167, -68], [-4, 24, -41]])\n",
        "\n",
        "Q, R = np.linalg.qr(A)\n",
        "\n",
        "print(Q)\n",
        "print()\n",
        "\n",
        "print(R)"
      ],
      "execution_count": null,
      "outputs": [
        {
          "output_type": "stream",
          "name": "stdout",
          "text": [
            "[[-0.85714286  0.39428571  0.33142857]\n",
            " [-0.42857143 -0.90285714 -0.03428571]\n",
            " [ 0.28571429 -0.17142857  0.94285714]]\n",
            "\n",
            "[[ -14.  -21.   14.]\n",
            " [   0. -175.   70.]\n",
            " [   0.    0.  -35.]]\n"
          ]
        }
      ]
    },
    {
      "cell_type": "code",
      "metadata": {
        "id": "XUBcm8OdamL3"
      },
      "source": [],
      "execution_count": null,
      "outputs": []
    }
  ]
}