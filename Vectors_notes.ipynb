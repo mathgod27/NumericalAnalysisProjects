{
  "nbformat": 4,
  "nbformat_minor": 0,
  "metadata": {
    "colab": {
      "provenance": [],
      "include_colab_link": true
    },
    "kernelspec": {
      "name": "python3",
      "display_name": "Python 3"
    }
  },
  "cells": [
    {
      "cell_type": "markdown",
      "metadata": {
        "id": "view-in-github",
        "colab_type": "text"
      },
      "source": [
        "<a href=\"https://colab.research.google.com/github/mathgod27/NumericalAnalysisProjects/blob/main/Vectors_notes.ipynb\" target=\"_parent\"><img src=\"https://colab.research.google.com/assets/colab-badge.svg\" alt=\"Open In Colab\"/></a>"
      ]
    },
    {
      "cell_type": "markdown",
      "metadata": {
        "id": "Bgq4qycsN6_o"
      },
      "source": [
        "# Load Numpy"
      ]
    },
    {
      "cell_type": "code",
      "metadata": {
        "id": "6Je_vuR6NLlA"
      },
      "source": [
        "import numpy as np"
      ],
      "execution_count": null,
      "outputs": []
    },
    {
      "cell_type": "markdown",
      "metadata": {
        "id": "DHwpc-wlP7cx"
      },
      "source": [
        "# Vector Addition"
      ]
    },
    {
      "cell_type": "code",
      "metadata": {
        "colab": {
          "base_uri": "https://localhost:8080/"
        },
        "id": "ZEN6uL-xN4zq",
        "outputId": "23432179-adb8-4c72-9587-4122ca5a18ff"
      },
      "source": [
        "a_np = np.array([1,2,3])\n",
        "b_np = np.array([4,5,6])\n",
        "\n",
        "add_ = a_np + b_np\n",
        "print(add_)"
      ],
      "execution_count": null,
      "outputs": [
        {
          "output_type": "stream",
          "name": "stdout",
          "text": [
            "[5 7 9]\n"
          ]
        }
      ]
    },
    {
      "cell_type": "markdown",
      "metadata": {
        "id": "fR9vxXuuP-vj"
      },
      "source": [
        "# Vector Subtraction"
      ]
    },
    {
      "cell_type": "code",
      "metadata": {
        "colab": {
          "base_uri": "https://localhost:8080/"
        },
        "id": "rPgQxeeoOEX-",
        "outputId": "ec7621ce-3045-463a-c8c5-4696472302c3"
      },
      "source": [
        "a_np = np.array([1,2,3])\n",
        "b_np = np.array([4,5,6])\n",
        "\n",
        "sub_ = a_np - b_np\n",
        "print(sub_)"
      ],
      "execution_count": null,
      "outputs": [
        {
          "output_type": "stream",
          "name": "stdout",
          "text": [
            "[-3 -3 -3]\n"
          ]
        }
      ]
    },
    {
      "cell_type": "markdown",
      "metadata": {
        "id": "iTYreqXwQDe8"
      },
      "source": [
        "# Scalar-Vector Multiplication"
      ]
    },
    {
      "cell_type": "code",
      "metadata": {
        "colab": {
          "base_uri": "https://localhost:8080/"
        },
        "id": "4ApVrrE0OMr5",
        "outputId": "ac5233ec-9d25-43f9-cab8-ed5684de5bdb"
      },
      "source": [
        "a_np = np.array([1,2,3])\n",
        "\n",
        "scalar_mul_ = a_np * 3\n",
        "print(scalar_mul_)"
      ],
      "execution_count": null,
      "outputs": [
        {
          "output_type": "stream",
          "name": "stdout",
          "text": [
            "[3 6 9]\n"
          ]
        }
      ]
    },
    {
      "cell_type": "markdown",
      "metadata": {
        "id": "wBPa0aABQIto"
      },
      "source": [
        "# Element-Wise Vector Multiplication"
      ]
    },
    {
      "cell_type": "code",
      "metadata": {
        "colab": {
          "base_uri": "https://localhost:8080/"
        },
        "id": "dZHMM3qsOGnt",
        "outputId": "2fd825c1-111e-41e5-9e8e-7ce244899d62"
      },
      "source": [
        "a_np = np.array([1,2,3])\n",
        "b_np = np.array([4,5,6])\n",
        "\n",
        "mul_ = a_np * b_np\n",
        "print(mul_)"
      ],
      "execution_count": null,
      "outputs": [
        {
          "output_type": "stream",
          "name": "stdout",
          "text": [
            "[ 4 10 18]\n"
          ]
        }
      ]
    },
    {
      "cell_type": "markdown",
      "metadata": {
        "id": "YLeSUhwGQNe6"
      },
      "source": [
        "# Dot Product"
      ]
    },
    {
      "cell_type": "code",
      "metadata": {
        "colab": {
          "base_uri": "https://localhost:8080/"
        },
        "id": "Eq9eQt-1OKsN",
        "outputId": "963e127c-0524-46c1-eb0d-fa275fa9a263"
      },
      "source": [
        "a_np = np.array([1,2,3])\n",
        "b_np = np.array([4,5,6])\n",
        "\n",
        "dot_ = np.dot(a_np , b_np)\n",
        "print(dot_)"
      ],
      "execution_count": null,
      "outputs": [
        {
          "output_type": "stream",
          "name": "stdout",
          "text": [
            "32\n"
          ]
        }
      ]
    },
    {
      "cell_type": "markdown",
      "metadata": {
        "id": "oDuqiF79QP2y"
      },
      "source": [
        "# Computing Norm (Vector Length)"
      ]
    },
    {
      "cell_type": "code",
      "metadata": {
        "colab": {
          "base_uri": "https://localhost:8080/"
        },
        "id": "Rd8lXZEfOTdl",
        "outputId": "4ceec9aa-d5b3-498d-d7ce-0b85e33c2990"
      },
      "source": [
        "a_np = np.array([1,2,3])\n",
        "\n",
        "norm_ = np.linalg.norm(a_np)\n",
        "print(norm_)"
      ],
      "execution_count": null,
      "outputs": [
        {
          "output_type": "stream",
          "name": "stdout",
          "text": [
            "3.7416573867739413\n"
          ]
        }
      ]
    },
    {
      "cell_type": "markdown",
      "metadata": {
        "id": "pqSzkyiMQW3Z"
      },
      "source": [
        "# Vector Normalization"
      ]
    },
    {
      "cell_type": "code",
      "metadata": {
        "colab": {
          "base_uri": "https://localhost:8080/"
        },
        "id": "LSTY5dbUPNmH",
        "outputId": "6608f98a-02cd-4c3c-d461-4ac4c67cb772"
      },
      "source": [
        "a_np = np.array([1,2,3])\n",
        "\n",
        "unit_ = a_np/np.linalg.norm(a_np)\n",
        "print(unit_)\n",
        "print()\n",
        "\n",
        "print(np.linalg.norm(unit_))"
      ],
      "execution_count": null,
      "outputs": [
        {
          "output_type": "stream",
          "name": "stdout",
          "text": [
            "[0.26726124 0.53452248 0.80178373]\n",
            "\n",
            "1.0\n"
          ]
        }
      ]
    },
    {
      "cell_type": "markdown",
      "metadata": {
        "id": "cltSEkjCQajB"
      },
      "source": [
        "# Cross Product"
      ]
    },
    {
      "cell_type": "code",
      "metadata": {
        "colab": {
          "base_uri": "https://localhost:8080/"
        },
        "id": "G96W9yYkOZ_9",
        "outputId": "db6a8c40-3e50-4373-a23a-005643117e79"
      },
      "source": [
        "a_np = np.array([1,2,3])\n",
        "b_np = np.array([4,5,6])\n",
        "\n",
        "cross_ = np.cross(a_np, b_np)\n",
        "print(cross_)"
      ],
      "execution_count": null,
      "outputs": [
        {
          "output_type": "stream",
          "name": "stdout",
          "text": [
            "[-3  6 -3]\n"
          ]
        }
      ]
    },
    {
      "cell_type": "markdown",
      "metadata": {
        "id": "qtlbnHONQco5"
      },
      "source": [
        "# Gram-Schmidt Orthonormalization"
      ]
    },
    {
      "cell_type": "code",
      "metadata": {
        "colab": {
          "base_uri": "https://localhost:8080/"
        },
        "id": "qpX5ZpnLOhv1",
        "outputId": "1dc20157-bd38-417c-df78-9b003168a7ff"
      },
      "source": [
        "def gram_schmidt(X):\n",
        "  Q, R = np.linalg.qr(X)\n",
        "  return Q\n",
        "\n",
        "vSet_np = np.array([[1, 1, 1], [-1, 0, 1], [1, 1, 2]])\n",
        "print(vSet_np)\n",
        "print()\n",
        "\n",
        "orthonormalSet_ = gram_schmidt(vSet_np)\n",
        "print(orthonormalSet_)\n",
        "\n",
        "print(np.dot(orthonormalSet_[:,0] , orthonormalSet_[:,1]))\n",
        "print(np.dot(orthonormalSet_[:,0] , orthonormalSet_[:,2]))\n",
        "print(np.dot(orthonormalSet_[:,1] , orthonormalSet_[:,2]))\n",
        "\n",
        "print(np.dot(orthonormalSet_[:,0] , orthonormalSet_[:,0]))\n",
        "print(np.dot(orthonormalSet_[:,1] , orthonormalSet_[:,1]))\n",
        "print(np.dot(orthonormalSet_[:,2] , orthonormalSet_[:,2]))"
      ],
      "execution_count": null,
      "outputs": [
        {
          "output_type": "stream",
          "name": "stdout",
          "text": [
            "[[ 1  1  1]\n",
            " [-1  0  1]\n",
            " [ 1  1  2]]\n",
            "\n",
            "[[-0.57735027 -0.40824829 -0.70710678]\n",
            " [ 0.57735027 -0.81649658  0.        ]\n",
            " [-0.57735027 -0.40824829  0.70710678]]\n",
            "5.551115123125783e-17\n",
            "5.551115123125783e-17\n",
            "5.551115123125783e-17\n",
            "1.0\n",
            "1.0000000000000004\n",
            "1.0\n"
          ]
        }
      ]
    }
  ]
}